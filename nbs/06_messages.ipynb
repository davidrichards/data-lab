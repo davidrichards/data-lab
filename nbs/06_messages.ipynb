{
 "cells": [
  {
   "cell_type": "code",
   "execution_count": null,
   "metadata": {},
   "outputs": [],
   "source": [
    "# default_exp train.messages"
   ]
  },
  {
   "cell_type": "markdown",
   "metadata": {},
   "source": [
    "# Messages\n",
    "\n",
    "Using Protocol Buffer to setup the types of objects I need:\n",
    "\n",
    "* subject\n",
    "* treatment\n",
    "* model\n",
    "* evaluation\n",
    "* expectation\n",
    "* invocation\n",
    "\n",
    "There could be more, but this handles the lifecycle of a data product:\n",
    "\n",
    "* Define the data or type of data we're working with. This can come across a stream, be found in file, or resemble academic data sets.\n",
    "* Learn how to learn from the data, defining a treatment that builds a model, applies a heuristic, or somehow transforms the data.\n",
    "* Store a model with its meta data, so we know what it is, when it was built, how it was built, etc.\n",
    "* Store evaluations of data transforms in standard ways, so they can be used in reporting and progress management.\n",
    "* Convert data into data expectations. This works on input data to a model as well as output data from a model. This can define a distribution, or any rules that make the data valid or alarming.\n",
    "* Create external interfaces to functions, models, and API calls. This is especially useful with all of my open keyword function signatures."
   ]
  },
  {
   "cell_type": "code",
   "execution_count": null,
   "metadata": {},
   "outputs": [
    {
     "name": "stdout",
     "output_type": "stream",
     "text": [
      "/Users/davidrichards/codes/hydra/lab\n"
     ]
    }
   ],
   "source": [
    "#hide\n",
    "pwd = %pwd\n",
    "if pwd.split('/')[-1] == 'nbs':\n",
    "    %cd .."
   ]
  },
  {
   "cell_type": "code",
   "execution_count": null,
   "metadata": {},
   "outputs": [],
   "source": [
    "from lab.util.test_functions import *\n",
    "import google.protobuf\n",
    "import lab.train.messages_pb2 as messages_pb2\n",
    "import zlib\n",
    "import binascii"
   ]
  },
  {
   "cell_type": "code",
   "execution_count": null,
   "metadata": {},
   "outputs": [],
   "source": [
    "class MessageBuilder:\n",
    "    \"\"\"Create Protocol Buffer messages from Python\n",
    "    data types.\"\"\"\n",
    "    \n",
    "    DEFAULT_MESSAGE_CLASS = messages_pb2.Model\n",
    "    MESSAGE_TYPE = google.protobuf.pyext.cpp_message.GeneratedProtocolMessageType\n",
    "    \n",
    "    def __init__(self, **kw):\n",
    "        self.kw = kw\n",
    "        \n",
    "    def _class_from_object(self, o):\n",
    "        # TODO: Add recursion, e.g. Model.Evaluation\n",
    "        if isinstance(o, str):\n",
    "            if hasattr(messages_pb2, o):\n",
    "                return self._class_from_object(getattr(messages_pb2, o))\n",
    "        if isinstance(o, self.MESSAGE_TYPE):\n",
    "            return o\n",
    "        \n",
    "    @property\n",
    "    def _message_class(self):\n",
    "        if hasattr(self, '__message_class'): return self.__message_class\n",
    "        o = self.kw.get('kind', self.DEFAULT_MESSAGE_CLASS)\n",
    "        self.__message_class = self._class_from_object(o)\n",
    "        return self.__message_class\n",
    "    \n",
    "    @property\n",
    "    def instance(self):\n",
    "        if hasattr(self, '_instance'): return self._instance\n",
    "        self._instance = self._message_class()\n",
    "        return self._instance\n",
    "\n",
    "    @property\n",
    "    def _fields(self):\n",
    "        if hasattr(self, '__fields'): return self.__fields\n",
    "        self.__fields = dict(self._message_class.DESCRIPTOR.fields_by_name)\n",
    "        return self.__fields\n",
    "            \n",
    "    def build(self, data):\n",
    "        # TODO: add recursion and type checking.\n",
    "        data = {k:v for k, v in data.items() if k in self._fields}\n",
    "        try:\n",
    "            return self._message_class(**data)\n",
    "        except:\n",
    "            # Something is wrong...just ignore it for now...\n",
    "            pass\n",
    "        \n",
    "    def __call__(self, **data):\n",
    "        return self.build(data)\n",
    "    \n",
    "model_builder = MessageBuilder(kind='Model')\n",
    "evaluation_builder = MessageBuilder(kind='Evaluation')"
   ]
  },
  {
   "cell_type": "code",
   "execution_count": null,
   "metadata": {},
   "outputs": [],
   "source": [
    "assert MessageBuilder()._message_class == MessageBuilder.DEFAULT_MESSAGE_CLASS\n",
    "assert MessageBuilder(kind=messages_pb2.Model)._message_class == messages_pb2.Model\n",
    "assert MessageBuilder(kind='Model')._message_class == messages_pb2.Model\n",
    "assert MessageBuilder(kind=messages_pb2.Evaluation)._message_class == messages_pb2.Evaluation\n",
    "assert MessageBuilder(kind='Evaluation')._message_class == messages_pb2.Evaluation\n",
    "\n",
    "description = \"\"\"\n",
    "Lorem ipsum dolor sit amet, consectetur adipiscing elit. Maecenas commodo sem id mi fringilla volutpat. Etiam sed massa sapien. Curabitur elementum, quam id feugiat tristique, tellus mauris pretium sem, sit amet congue elit lectus non dolor. Suspendisse imperdiet lectus at est posuere, vel suscipit arcu rhoncus. Integer ultricies laoreet erat eu laoreet. Pellentesque nec metus scelerisque, dignissim quam ut, suscipit magna. Sed nec purus ut felis eleifend volutpat.\n",
    "\n",
    "Mauris consectetur metus a finibus pellentesque. Nunc eleifend tempus mollis. Nullam eget interdum enim. Sed nunc lorem, elementum vel pretium in, luctus eu turpis. In hac habitasse platea dictumst. Curabitur tincidunt placerat est, eu imperdiet enim cursus laoreet. Nam placerat varius lacus, at laoreet felis facilisis ut. Vestibulum vitae eros ante. Vestibulum mattis sem ut lacus posuere, at tincidunt augue imperdiet. Nulla congue erat vitae suscipit ultrices. Maecenas gravida egestas magna eget condimentum. Morbi vitae varius magna. Pellentesque ut diam magna. Etiam justo nibh, aliquet eget finibus at, finibus ac quam. Sed nec porta justo, ac aliquet sem. Donec sit amet elit lobortis, volutpat sapien eget, ullamcorper erat.\n",
    "\n",
    "Nullam eu quam porttitor, rhoncus dolor id, rhoncus nulla. Morbi et elementum nunc. Orci varius natoque penatibus et magnis dis parturient montes, nascetur ridiculus mus. Sed imperdiet nulla nunc, vel sollicitudin libero dapibus sed. Curabitur ultrices ante at gravida rhoncus. Nunc quis ante convallis, dapibus mi sit amet, efficitur ex. Ut magna est, egestas sit amet scelerisque sit amet, finibus a lectus. Sed vitae dignissim leo. Sed laoreet ante et sem convallis auctor. Morbi sodales ut magna ultrices sodales. Integer luctus blandit nunc. Sed a dapibus massa. Suspendisse rhoncus erat lacus, quis facilisis dui ornare dignissim. Orci varius natoque penatibus et magnis dis parturient montes, nascetur ridiculus mus. Curabitur purus ante, vulputate at justo in, egestas egestas ante. Duis vitae est rutrum, luctus erat eget, luctus enim.\n",
    "\n",
    "Aliquam eu neque nisl. Ut egestas, dui nec posuere sagittis, justo massa gravida velit, a pulvinar urna turpis in elit. Integer ex orci, scelerisque non felis quis, ornare aliquet quam. Fusce at metus at risus auctor interdum a eget ante. Aenean congue, risus ac rutrum gravida, leo tellus ullamcorper nisi, quis aliquet justo orci ut ex. Morbi sagittis augue ac dui posuere, quis vestibulum dui finibus. Nam elementum ex non diam sollicitudin, sit amet finibus velit convallis. Vivamus viverra, ipsum quis cursus tempor, neque erat tincidunt elit, a tempor dolor enim quis nibh. Morbi vestibulum massa sed tempus hendrerit. Quisque aliquet metus feugiat, pellentesque nisl id, rutrum quam. Nulla sit amet dapibus ipsum. Morbi ut lorem aliquam, lacinia tortor vitae, luctus mauris. Maecenas vehicula elementum justo gravida luctus. Maecenas suscipit pellentesque nisi ut rutrum. Praesent a convallis quam.\n",
    "\n",
    "Donec at nisi eros. Vestibulum sed libero vitae nunc posuere aliquet. Aliquam erat volutpat. Sed lorem felis, sagittis et pulvinar id, posuere sed arcu. Lorem ipsum dolor sit amet, consectetur adipiscing elit. Donec vitae dolor vulputate, iaculis velit fermentum, posuere ante. Aenean erat nisl, feugiat ac interdum sed, fringilla vitae purus. Curabitur pulvinar aliquam dui, eget suscipit augue volutpat id. Nullam auctor mollis mi, vel sodales erat scelerisque vel. Aliquam bibendum purus eu feugiat hendrerit. Pellentesque id ultrices ante. Nullam non mauris a nibh finibus commodo. Fusce vel purus vitae tortor vestibulum scelerisque sed eu erat. In hac habitasse platea dictumst. Ut feugiat magna nunc, eget tempor sapien commodo nec. Donec tincidunt augue at leo scelerisque euismod.\n",
    "\"\"\"\n",
    "\n",
    "data = dict(name='foo', description=description, foo=42)\n",
    "\n",
    "assert model_builder.build(data).description == description\n",
    "assert model_builder(**data).name ==data['name']\n",
    "\n",
    "data = dict(name='bar', evaluations=[{'name': 'accuracy', 'values': [1,2,3,4]}])\n",
    "model = model_builder(**data)\n",
    "assert len(model.evaluations) == 1\n"
   ]
  },
  {
   "cell_type": "code",
   "execution_count": null,
   "metadata": {},
   "outputs": [],
   "source": [
    "def serialize(message):\n",
    "    return message.SerializeToString()\n",
    "\n",
    "def deserialize(s, kind):\n",
    "    message = kind()\n",
    "    message.ParseFromString(s)\n",
    "    return message\n",
    "\n",
    "DEFAULT_COMPRESSION = zlib.Z_BEST_COMPRESSION\n",
    "COMPRESSION_LEVELS = dict(\n",
    "    best_speed=zlib.Z_BEST_SPEED,\n",
    "    best_compression=zlib.Z_BEST_COMPRESSION,\n",
    "    default=zlib.Z_DEFAULT_COMPRESSION,\n",
    ")\n",
    "\n",
    "def compress_message(message, level=DEFAULT_COMPRESSION):\n",
    "    if isinstance(level, str): level = COMPRESSION_LEVELS.get(level, DEFAULT_COMPRESSION)\n",
    "    s = serialize(message)\n",
    "    return zlib.compress(s, level)\n",
    "\n",
    "def decompress_message(compressed, kind):\n",
    "    decompressed = zlib.decompress(compressed)\n",
    "    return deserialize(decompressed, kind)"
   ]
  },
  {
   "cell_type": "code",
   "execution_count": null,
   "metadata": {},
   "outputs": [],
   "source": [
    "message = model_builder(**data)"
   ]
  },
  {
   "cell_type": "code",
   "execution_count": null,
   "metadata": {},
   "outputs": [
    {
     "data": {
      "text/plain": [
       "name: \"bar\"\n",
       "evaluations {\n",
       "  name: \"accuracy\"\n",
       "  values: 1.0\n",
       "  values: 2.0\n",
       "  values: 3.0\n",
       "  values: 4.0\n",
       "}"
      ]
     },
     "execution_count": null,
     "metadata": {},
     "output_type": "execute_result"
    }
   ],
   "source": [
    "message"
   ]
  },
  {
   "cell_type": "code",
   "execution_count": null,
   "metadata": {},
   "outputs": [
    {
     "data": {
      "text/plain": [
       "b'\\n\\x03bar\"\\x1e\\n\\x08accuracy\\x15\\x00\\x00\\x80?\\x15\\x00\\x00\\x00@\\x15\\x00\\x00@@\\x15\\x00\\x00\\x80@'"
      ]
     },
     "execution_count": null,
     "metadata": {},
     "output_type": "execute_result"
    }
   ],
   "source": [
    "serialize(message)"
   ]
  },
  {
   "cell_type": "code",
   "execution_count": null,
   "metadata": {},
   "outputs": [
    {
     "data": {
      "text/plain": [
       "b'x\\xda\\xe3bNJ,R\\x92\\xe3\\xe2HLN.-JL\\xae\\x14e`h\\xb0\\x07\\x12\\x0c\\x0e@\\xc2\\x01D48\\x00\\x00\\x9d\\x1b\\x07s'"
      ]
     },
     "execution_count": null,
     "metadata": {},
     "output_type": "execute_result"
    }
   ],
   "source": [
    "compress_message(message)"
   ]
  },
  {
   "cell_type": "code",
   "execution_count": null,
   "metadata": {},
   "outputs": [
    {
     "data": {
      "text/plain": [
       "b'x\\xda\\xe3bNJ,R\\x92\\xe3\\xe2HLN.-JL\\xae\\x14e`h\\xb0\\x07\\x12\\x0c\\x0e@\\xc2\\x01D48\\x00\\x00\\x9d\\x1b\\x07s'"
      ]
     },
     "execution_count": null,
     "metadata": {},
     "output_type": "execute_result"
    }
   ],
   "source": [
    "compress_message(message, level='nonsense')"
   ]
  },
  {
   "cell_type": "code",
   "execution_count": null,
   "metadata": {},
   "outputs": [
    {
     "data": {
      "text/plain": [
       "name: \"bar\"\n",
       "evaluations {\n",
       "  name: \"accuracy\"\n",
       "  values: 1.0\n",
       "  values: 2.0\n",
       "  values: 3.0\n",
       "  values: 4.0\n",
       "}"
      ]
     },
     "execution_count": null,
     "metadata": {},
     "output_type": "execute_result"
    }
   ],
   "source": [
    "x = compress_message(message)\n",
    "decompress_message(x, messages_pb2.Model)"
   ]
  },
  {
   "cell_type": "code",
   "execution_count": null,
   "metadata": {},
   "outputs": [
    {
     "data": {
      "text/plain": [
       "'0.0.1'"
      ]
     },
     "execution_count": null,
     "metadata": {},
     "output_type": "execute_result"
    }
   ],
   "source": [
    "model_builder(description='Foo').version"
   ]
  },
  {
   "cell_type": "code",
   "execution_count": null,
   "metadata": {},
   "outputs": [
    {
     "data": {
      "text/plain": [
       "'0.0.1'"
      ]
     },
     "execution_count": null,
     "metadata": {},
     "output_type": "execute_result"
    }
   ],
   "source": [
    "built =decompres_message(x, messages_pb2.Model)\n",
    "built.version"
   ]
  },
  {
   "cell_type": "code",
   "execution_count": null,
   "metadata": {},
   "outputs": [
    {
     "data": {
      "text/plain": [
       "{'name': <google.protobuf.pyext._message.FieldDescriptor at 0x11d7e9580>,\n",
       " 'description': <google.protobuf.pyext._message.FieldDescriptor at 0x11d7e9ee0>,\n",
       " 'version': <google.protobuf.pyext._message.FieldDescriptor at 0x11d7e91c0>,\n",
       " 'evaluations': <google.protobuf.pyext._message.FieldDescriptor at 0x11d7e9fa0>}"
      ]
     },
     "execution_count": null,
     "metadata": {},
     "output_type": "execute_result"
    }
   ],
   "source": [
    "model_builder._fields"
   ]
  },
  {
   "cell_type": "code",
   "execution_count": null,
   "metadata": {},
   "outputs": [
    {
     "data": {
      "text/plain": [
       "{'name': 'bar',\n",
       " 'description': '',\n",
       " 'version': '0.0.1',\n",
       " 'evaluations': [name: \"accuracy\"\n",
       " values: 1.0\n",
       " values: 2.0\n",
       " values: 3.0\n",
       " values: 4.0\n",
       " ]}"
      ]
     },
     "execution_count": null,
     "metadata": {},
     "output_type": "execute_result"
    }
   ],
   "source": [
    "{k:getattr(built, k) for k in model_builder._fields.keys()}"
   ]
  },
  {
   "cell_type": "code",
   "execution_count": null,
   "metadata": {},
   "outputs": [],
   "source": []
  }
 ],
 "metadata": {
  "kernelspec": {
   "display_name": "Python 3",
   "language": "python",
   "name": "python3"
  }
 },
 "nbformat": 4,
 "nbformat_minor": 2
}

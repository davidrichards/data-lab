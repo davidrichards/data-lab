{
 "cells": [
  {
   "cell_type": "code",
   "execution_count": null,
   "metadata": {},
   "outputs": [],
   "source": [
    "# default_exp train.message"
   ]
  },
  {
   "cell_type": "markdown",
   "metadata": {},
   "source": [
    "# Message\n",
    "\n",
    "Using Protocol Buffer to setup the types of objects I need:\n",
    "\n",
    "* subject\n",
    "* treatment\n",
    "* model\n",
    "* evaluation\n",
    "* expectation\n",
    "* invocation\n",
    "\n",
    "There could be more, but this handles the lifecycle of a data product:\n",
    "\n",
    "* Define the data or type of data we're working with. This can come across a stream, be found in file, or resemble academic data sets.\n",
    "* Learn how to learn from the data, defining a treatment that builds a model, applies a heuristic, or somehow transforms the data.\n",
    "* Store a model with its meta data, so we know what it is, when it was built, how it was built, etc.\n",
    "* Store evaluations of data transforms in standard ways, so they can be used in reporting and progress management.\n",
    "* Convert data into data expectations. This works on input data to a model as well as output data from a model. This can define a distribution, or any rules that make the data valid or alarming.\n",
    "* Create external interfaces to functions, models, and API calls. This is especially useful with all of my open keyword function signatures."
   ]
  },
  {
   "cell_type": "code",
   "execution_count": null,
   "metadata": {},
   "outputs": [
    {
     "name": "stdout",
     "output_type": "stream",
     "text": [
      "/Users/davidrichards/codes/hydra/lab\n"
     ]
    }
   ],
   "source": [
    "#hide\n",
    "pwd = %pwd\n",
    "if pwd.split('/')[-1] == 'nbs':\n",
    "    %cd .."
   ]
  },
  {
   "cell_type": "code",
   "execution_count": null,
   "metadata": {},
   "outputs": [],
   "source": [
    "#export\n",
    "import google.protobuf\n",
    "import lab.train.messages_pb2 as messages_pb2\n",
    "import zlib"
   ]
  },
  {
   "cell_type": "code",
   "execution_count": null,
   "metadata": {},
   "outputs": [],
   "source": [
    "#export\n",
    "def serialize(message):\n",
    "    \"\"\"Convert a message to a binary string.\"\"\"\n",
    "    return message.SerializeToString()\n",
    "\n",
    "def kind_to_class(kind, parent=messages_pb2):\n",
    "    \"\"\"Find a Message class by reference.\n",
    "    Allows a recursive search for a message class.\n",
    "    The message I used to test this no longer exists.\"\"\"\n",
    "    if isinstance(kind, type): return kind\n",
    "    if isinstance(kind, str):\n",
    "        kind, *tail = kind.split('.')\n",
    "        if hasattr(parent, kind):\n",
    "            if len(tail) > 0:\n",
    "                parent = kind_to_class(kind, parent=parent)\n",
    "                if parent:\n",
    "                    return kind_to_class('.'.join(tail), parent=parent)\n",
    "            return kind_to_class(getattr(parent, kind))\n",
    "\n",
    "def deserialize(s, kind):\n",
    "    \"\"\"Deserialize a string as a kind of message.\"\"\"\n",
    "    cls = kind_to_class(kind)\n",
    "    if cls is None: return False\n",
    "    message = cls()\n",
    "    message.ParseFromString(s)\n",
    "    return message\n",
    "\n",
    "DEFAULT_COMPRESSION = zlib.Z_BEST_COMPRESSION\n",
    "COMPRESSION_LEVELS = dict(\n",
    "    best_speed=zlib.Z_BEST_SPEED,\n",
    "    best_compression=zlib.Z_BEST_COMPRESSION,\n",
    "    default=zlib.Z_DEFAULT_COMPRESSION,\n",
    ")\n",
    "\n",
    "def compress(message, level=DEFAULT_COMPRESSION):\n",
    "    \"\"\"Compress a message.\"\"\"\n",
    "    if isinstance(level, str): level = COMPRESSION_LEVELS.get(level, DEFAULT_COMPRESSION)\n",
    "    s = serialize(message)\n",
    "    return zlib.compress(s, level)\n",
    "\n",
    "def decompress(compressed, kind):\n",
    "    \"\"\"Decompress a compressed message, given the kind of message.\"\"\"\n",
    "    cls = kind_to_class(kind)\n",
    "    if cls is None: return False\n",
    "    decompressed = zlib.decompress(compressed)\n",
    "    return deserialize(decompressed, cls)\n",
    "\n",
    "def to_dict(message):\n",
    "    \"\"\"Create a dictionary from a message, including all defaults.\"\"\"\n",
    "    fields = dict(message.DESCRIPTOR.fields_by_name)\n",
    "    return {k:getattr(message, k) for k in fields.keys()}"
   ]
  },
  {
   "cell_type": "code",
   "execution_count": null,
   "metadata": {},
   "outputs": [],
   "source": [
    "assert kind_to_class(messages_pb2.Subject) == messages_pb2.Subject\n",
    "assert kind_to_class('Subject') == messages_pb2.Subject"
   ]
  },
  {
   "cell_type": "code",
   "execution_count": null,
   "metadata": {},
   "outputs": [],
   "source": [
    "#export\n",
    "class MessageBuilder:\n",
    "    \"\"\"Create Protocol Buffer messages from Python\n",
    "    data types.\"\"\"\n",
    "    \n",
    "    DEFAULT_MESSAGE_CLASS = messages_pb2.Model\n",
    "    \n",
    "    def __init__(self, **kw):\n",
    "        self.kw = kw\n",
    "        \n",
    "    def _class_from_object(self, o):\n",
    "        return kind_to_class(o)\n",
    "        \n",
    "    @property\n",
    "    def _message_class(self):\n",
    "        if hasattr(self, '__message_class'): return self.__message_class\n",
    "        o = self.kw.get('kind', self.DEFAULT_MESSAGE_CLASS)\n",
    "        self.__message_class = kind_to_class(o)\n",
    "        return self.__message_class\n",
    "    \n",
    "    @property\n",
    "    def instance(self):\n",
    "        if hasattr(self, '_instance'): return self._instance\n",
    "        self._instance = self._message_class()\n",
    "        return self._instance\n",
    "\n",
    "    @property\n",
    "    def _fields(self):\n",
    "        if hasattr(self, '__fields'): return self.__fields\n",
    "        self.__fields = dict(self._message_class.DESCRIPTOR.fields_by_name)\n",
    "        return self.__fields\n",
    "            \n",
    "    def build(self, data):\n",
    "        # TODO: add recursion and type checking.\n",
    "        data = {k:v for k, v in data.items() if k in self._fields}\n",
    "        try:\n",
    "            return self._message_class(**data)\n",
    "        except:\n",
    "            # Something is wrong...just ignore it for now...\n",
    "            pass\n",
    "        \n",
    "    def __call__(self, **data):\n",
    "        return self.build(data)\n",
    "    \n",
    "subject_builder = MessageBuilder(kind='Subject')\n",
    "treatment_builder = MessageBuilder(kind='Treatment')\n",
    "model_builder = MessageBuilder(kind='Model')\n",
    "evaluation_builder = MessageBuilder(kind='Evaluation')\n",
    "expectation_builder = MessageBuilder(kind='Expectation')\n",
    "invocation_builder = MessageBuilder(kind='Invocation')"
   ]
  },
  {
   "cell_type": "code",
   "execution_count": null,
   "metadata": {},
   "outputs": [],
   "source": [
    "data = dict(name='bar', evaluations=[{'name': 'accuracy', 'values': [1,2,3,4]}])\n",
    "message = model_builder(**data)\n",
    "serialized = serialize(message)\n",
    "compressed = compress(message)\n",
    "decompressed = decompress(compressed, messages_pb2.Model)\n",
    "assert decompressed.name == 'bar'\n",
    "assert decompressed.evaluations[0].name == 'accuracy'\n",
    "assert 'version' in to_dict(message)"
   ]
  },
  {
   "cell_type": "markdown",
   "metadata": {},
   "source": [
    "So, serializing, deserializing, compressing, and decompressing all work. Also, creating a dictionary from a message works, even with defaults."
   ]
  },
  {
   "cell_type": "code",
   "execution_count": null,
   "metadata": {},
   "outputs": [],
   "source": [
    "assert MessageBuilder()._message_class == MessageBuilder.DEFAULT_MESSAGE_CLASS\n",
    "assert MessageBuilder(kind=messages_pb2.Model)._message_class == messages_pb2.Model\n",
    "assert MessageBuilder(kind='Model')._message_class == messages_pb2.Model\n",
    "assert MessageBuilder(kind=messages_pb2.Evaluation)._message_class == messages_pb2.Evaluation\n",
    "assert MessageBuilder(kind='Evaluation')._message_class == messages_pb2.Evaluation\n",
    "\n",
    "description = \"\"\"\n",
    "Lorem ipsum dolor sit amet, consectetur adipiscing elit. Maecenas commodo sem id mi fringilla volutpat. Etiam sed massa sapien. Curabitur elementum, quam id feugiat tristique, tellus mauris pretium sem, sit amet congue elit lectus non dolor. Suspendisse imperdiet lectus at est posuere, vel suscipit arcu rhoncus. Integer ultricies laoreet erat eu laoreet. Pellentesque nec metus scelerisque, dignissim quam ut, suscipit magna. Sed nec purus ut felis eleifend volutpat.\n",
    "\n",
    "Mauris consectetur metus a finibus pellentesque. Nunc eleifend tempus mollis. Nullam eget interdum enim. Sed nunc lorem, elementum vel pretium in, luctus eu turpis. In hac habitasse platea dictumst. Curabitur tincidunt placerat est, eu imperdiet enim cursus laoreet. Nam placerat varius lacus, at laoreet felis facilisis ut. Vestibulum vitae eros ante. Vestibulum mattis sem ut lacus posuere, at tincidunt augue imperdiet. Nulla congue erat vitae suscipit ultrices. Maecenas gravida egestas magna eget condimentum. Morbi vitae varius magna. Pellentesque ut diam magna. Etiam justo nibh, aliquet eget finibus at, finibus ac quam. Sed nec porta justo, ac aliquet sem. Donec sit amet elit lobortis, volutpat sapien eget, ullamcorper erat.\n",
    "\n",
    "Nullam eu quam porttitor, rhoncus dolor id, rhoncus nulla. Morbi et elementum nunc. Orci varius natoque penatibus et magnis dis parturient montes, nascetur ridiculus mus. Sed imperdiet nulla nunc, vel sollicitudin libero dapibus sed. Curabitur ultrices ante at gravida rhoncus. Nunc quis ante convallis, dapibus mi sit amet, efficitur ex. Ut magna est, egestas sit amet scelerisque sit amet, finibus a lectus. Sed vitae dignissim leo. Sed laoreet ante et sem convallis auctor. Morbi sodales ut magna ultrices sodales. Integer luctus blandit nunc. Sed a dapibus massa. Suspendisse rhoncus erat lacus, quis facilisis dui ornare dignissim. Orci varius natoque penatibus et magnis dis parturient montes, nascetur ridiculus mus. Curabitur purus ante, vulputate at justo in, egestas egestas ante. Duis vitae est rutrum, luctus erat eget, luctus enim.\n",
    "\n",
    "Aliquam eu neque nisl. Ut egestas, dui nec posuere sagittis, justo massa gravida velit, a pulvinar urna turpis in elit. Integer ex orci, scelerisque non felis quis, ornare aliquet quam. Fusce at metus at risus auctor interdum a eget ante. Aenean congue, risus ac rutrum gravida, leo tellus ullamcorper nisi, quis aliquet justo orci ut ex. Morbi sagittis augue ac dui posuere, quis vestibulum dui finibus. Nam elementum ex non diam sollicitudin, sit amet finibus velit convallis. Vivamus viverra, ipsum quis cursus tempor, neque erat tincidunt elit, a tempor dolor enim quis nibh. Morbi vestibulum massa sed tempus hendrerit. Quisque aliquet metus feugiat, pellentesque nisl id, rutrum quam. Nulla sit amet dapibus ipsum. Morbi ut lorem aliquam, lacinia tortor vitae, luctus mauris. Maecenas vehicula elementum justo gravida luctus. Maecenas suscipit pellentesque nisi ut rutrum. Praesent a convallis quam.\n",
    "\n",
    "Donec at nisi eros. Vestibulum sed libero vitae nunc posuere aliquet. Aliquam erat volutpat. Sed lorem felis, sagittis et pulvinar id, posuere sed arcu. Lorem ipsum dolor sit amet, consectetur adipiscing elit. Donec vitae dolor vulputate, iaculis velit fermentum, posuere ante. Aenean erat nisl, feugiat ac interdum sed, fringilla vitae purus. Curabitur pulvinar aliquam dui, eget suscipit augue volutpat id. Nullam auctor mollis mi, vel sodales erat scelerisque vel. Aliquam bibendum purus eu feugiat hendrerit. Pellentesque id ultrices ante. Nullam non mauris a nibh finibus commodo. Fusce vel purus vitae tortor vestibulum scelerisque sed eu erat. In hac habitasse platea dictumst. Ut feugiat magna nunc, eget tempor sapien commodo nec. Donec tincidunt augue at leo scelerisque euismod.\n",
    "\"\"\"\n",
    "\n",
    "data = dict(name='foo', description=description, foo=42)\n",
    "\n",
    "assert model_builder.build(data).description == description\n",
    "assert model_builder(**data).name ==data['name']\n",
    "\n",
    "data = dict(name='bar', evaluations=[{'name': 'accuracy', 'values': [1,2,3,4]}])\n",
    "model = model_builder(**data)\n",
    "assert len(model.evaluations) == 1\n"
   ]
  },
  {
   "cell_type": "code",
   "execution_count": null,
   "metadata": {},
   "outputs": [],
   "source": []
  }
 ],
 "metadata": {
  "kernelspec": {
   "display_name": "Python 3",
   "language": "python",
   "name": "python3"
  }
 },
 "nbformat": 4,
 "nbformat_minor": 2
}

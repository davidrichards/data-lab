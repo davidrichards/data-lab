{
 "cells": [
  {
   "cell_type": "code",
   "execution_count": null,
   "metadata": {},
   "outputs": [],
   "source": [
    "# default_exp train.objects"
   ]
  },
  {
   "cell_type": "markdown",
   "metadata": {},
   "source": [
    "# Objects\n",
    "\n",
    "Using Protocol Buffer to setup the types of objects I need:\n",
    "\n",
    "* subject\n",
    "* treatment\n",
    "* model\n",
    "* evaluation\n",
    "* expectation\n",
    "* invocation\n",
    "\n",
    "There could be more, but this handles the lifecycle of a data product:\n",
    "\n",
    "* Define the data or type of data we're working with. This can come across a stream, be found in file, or resemble academic data sets.\n",
    "* Learn how to learn from the data, defining a treatment that builds a model, applies a heuristic, or somehow transforms the data.\n",
    "* Store a model with its meta data, so we know what it is, when it was built, how it was built, etc.\n",
    "* Store evaluations of data transforms in standard ways, so they can be used in reporting and progress management.\n",
    "* Convert data into data expectations. This works on input data to a model as well as output data from a model. This can define a distribution, or any rules that make the data valid or alarming.\n",
    "* Create external interfaces to functions, models, and API calls. This is especially useful with all of my open keyword function signatures."
   ]
  },
  {
   "cell_type": "code",
   "execution_count": null,
   "metadata": {},
   "outputs": [
    {
     "name": "stdout",
     "output_type": "stream",
     "text": [
      "/Users/davidrichards/codes/hydra/lab\n"
     ]
    }
   ],
   "source": [
    "#hide\n",
    "pwd = %pwd\n",
    "if pwd.split('/')[-1] == 'nbs':\n",
    "    %cd .."
   ]
  },
  {
   "cell_type": "code",
   "execution_count": null,
   "metadata": {},
   "outputs": [],
   "source": [
    "from lab.util.test_functions import *\n",
    "\n",
    "# from pathlib import Path\n",
    "# import pathlib\n",
    "# import re\n",
    "# import shutil\n",
    "# import os"
   ]
  }
 ],
 "metadata": {
  "kernelspec": {
   "display_name": "Python 3",
   "language": "python",
   "name": "python3"
  }
 },
 "nbformat": 4,
 "nbformat_minor": 2
}

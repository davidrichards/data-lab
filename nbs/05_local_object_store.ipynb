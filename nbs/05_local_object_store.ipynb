{
 "cells": [
  {
   "cell_type": "code",
   "execution_count": null,
   "metadata": {},
   "outputs": [],
   "source": [
    "# default_exp train.local_object_store"
   ]
  },
  {
   "cell_type": "markdown",
   "metadata": {},
   "source": [
    "# Local Object Store\n",
    "\n",
    "Namespace for these functions. I'm trying a functional approach instead of wrapping everything in a one-type-use class."
   ]
  },
  {
   "cell_type": "code",
   "execution_count": null,
   "metadata": {},
   "outputs": [
    {
     "name": "stdout",
     "output_type": "stream",
     "text": [
      "/Users/davidrichards/codes/hydra/lab\n"
     ]
    }
   ],
   "source": [
    "#hide\n",
    "pwd = %pwd\n",
    "if pwd.split('/')[-1] == 'nbs':\n",
    "    %cd .."
   ]
  },
  {
   "cell_type": "code",
   "execution_count": null,
   "metadata": {},
   "outputs": [],
   "source": [
    "from lab.util.test_functions import *\n",
    "\n",
    "from pathlib import Path\n",
    "import pathlib\n",
    "import re\n",
    "import shutil\n",
    "import os"
   ]
  },
  {
   "cell_type": "code",
   "execution_count": null,
   "metadata": {},
   "outputs": [],
   "source": [
    "#export\n",
    "\n",
    "WHITE_LIST_CONFIG = ['root', 'name', 'filter', 'force']\n",
    "\n",
    "def white_list(keywords, keys, require_keys=False, expand_missing=False):\n",
    "    \"\"\"Filter a dictionary by a set of keys\"\"\"\n",
    "    if require_keys:\n",
    "        return {key:keywords[key] for key in keys}\n",
    "    if expand_missing:\n",
    "        return {key:keywords.get(key) for key in keys}\n",
    "    result = {}\n",
    "    for key in keys:\n",
    "        if key in keywords: result[key] = keywords[key]\n",
    "    return result\n",
    "\n",
    "def merge_config(**kw):\n",
    "    \"\"\"Get the local environemnt variables, convert the keys\n",
    "    to lower case, merge new keywords over the environment\n",
    "    variables, and use a white list filter on valid entries.\n",
    "    \n",
    "    Right now, I'm only white listing the environment variables,\n",
    "    but possibly I'll do this for everything.\"\"\"\n",
    "    \n",
    "    env = {k.lower():v for k, v in os.environ.items()}\n",
    "    env = white_list(env, WHITE_LIST_CONFIG)\n",
    "    return {**env, **kw}"
   ]
  },
  {
   "cell_type": "code",
   "execution_count": null,
   "metadata": {},
   "outputs": [],
   "source": [
    "d = dict(a=1, b=2)\n",
    "\n",
    "assert 'b' not in white_list(d, ['a'])\n",
    "assert 'c' in white_list(d, ['a', 'c'], expand_missing=True)\n",
    "assert white_list(d, ['c'], expand_missing=True)['c'] is None\n",
    "\n",
    "with check_raises():\n",
    "    white_list(d, ['c'], require_keys=True)\n",
    "    \n",
    "known_keys = ['force', 'filter', 'name', 'root']\n",
    "for key in known_keys:\n",
    "    assert key in WHITE_LIST_CONFIG\n"
   ]
  },
  {
   "cell_type": "markdown",
   "metadata": {},
   "source": [
    "This is interesting, to bring in the environment variables. It's because in a Docker container, this is the best way to handle configuration."
   ]
  },
  {
   "cell_type": "code",
   "execution_count": null,
   "metadata": {},
   "outputs": [],
   "source": [
    "#export\n",
    "\n",
    "ROOT = '/tmp'\n",
    "def root(**kw):\n",
    "    kw = merge_config(**kw)\n",
    "    return Path(kw.get('root', ROOT))\n",
    "\n",
    "def name(**kw):\n",
    "    kw = merge_config(**kw)\n",
    "    o = kw.get('name', kw.get('filter', None))\n",
    "    if isinstance(o, re.Pattern):\n",
    "        return o.pattern\n",
    "    if o is None or isinstance(o, str):\n",
    "        return o\n",
    "    return str(o)\n",
    "\n",
    "def bucket_filter(**kw):\n",
    "    kw = merge_config(**kw)\n",
    "    o = kw.get('name', kw.get('filter', ''))\n",
    "    if isinstance(o, re.Pattern): return o\n",
    "    return re.compile(f\".*{o}.*\")"
   ]
  },
  {
   "cell_type": "code",
   "execution_count": null,
   "metadata": {},
   "outputs": [],
   "source": [
    "assert root(root='a') == Path('a')\n",
    "assert root() == Path(ROOT)\n",
    "\n",
    "assert name() is None\n",
    "assert name(name='name') == 'name'\n",
    "assert name(filter='name') == 'name'\n",
    "r = re.compile('name')\n",
    "assert name(name=r) == 'name'\n",
    "assert name(filter=r) == 'name'\n",
    "assert name(name=42) == '42'\n",
    "assert name(filter=42) == '42'\n",
    "\n",
    "assert bucket_filter().pattern == '.*.*'\n",
    "assert bucket_filter().match('')\n",
    "assert bucket_filter().match('anything')\n",
    "assert bucket_filter(name='foo').match('foo')\n",
    "assert bucket_filter(name=re.compile('foo')).match('foo')\n",
    "assert bucket_filter(filter='foo').match('foo')\n",
    "assert bucket_filter(filter=re.compile('foo')).match('foo')"
   ]
  },
  {
   "cell_type": "markdown",
   "metadata": {},
   "source": [
    "Getting root, a name, and a filter for buckets. This is mostly just establishing a convention."
   ]
  },
  {
   "cell_type": "code",
   "execution_count": null,
   "metadata": {},
   "outputs": [],
   "source": [
    "#export\n",
    "\n",
    "def list_paths(**kw):\n",
    "    r = root(**kw)\n",
    "    p = bucket_filter(**kw)\n",
    "    return [f for f in r.iterdir() if f.is_dir() and p.match(f.name)]\n",
    "\n",
    "def list_buckets(**kw):\n",
    "    return [p.name for p in list_paths(**kw)]\n",
    "\n",
    "def get_slice(seq, key, default=None):\n",
    "    d = dict(enumerate(seq))\n",
    "    return d.get(key, default)\n",
    "\n",
    "def first_path(**kw):\n",
    "    return get_slice(list_paths(**kw), 0)\n",
    "\n",
    "def first_bucket(**kw):\n",
    "    return get_slice(list_buckets(**kw), 0)\n",
    "\n",
    "def exists(**kw):\n",
    "    found = first_path(**kw)\n",
    "    return not found is None and found.exists()\n",
    "\n",
    "def is_empty(**kw):\n",
    "    if not exists(**kw): return True\n",
    "    return len(list(first_path(**kw).glob('*'))) == 0\n",
    "\n",
    "def can_remove_bucket(**kw):\n",
    "    kw = merge_config(**kw)\n",
    "    if is_empty(**kw): return True\n",
    "    if kw.get('force', False): return True\n",
    "    return False\n",
    "\n",
    "def full_path(**kw):\n",
    "    return root(**kw)/name(**kw)\n",
    "    \n",
    "def find_or_create_bucket(**kw):\n",
    "    path = full_path(**kw)\n",
    "    path.mkdir(parents=True, exist_ok=True)\n",
    "    return path.name\n",
    "\n",
    "def remove_bucket(**kw):\n",
    "    if not can_remove_bucket(**kw): return False\n",
    "    try:\n",
    "        path = full_path(**kw)\n",
    "        shutil.rmtree(path)\n",
    "        return True\n",
    "    except:\n",
    "        return False"
   ]
  },
  {
   "cell_type": "code",
   "execution_count": null,
   "metadata": {},
   "outputs": [],
   "source": [
    "assert isinstance(list_buckets(), list)\n",
    "\n",
    "remove_bucket(name='junk', force=True)\n",
    "assert full_path(name='junk') == Path(ROOT)/'junk'\n",
    "assert not exists(name='junk')\n",
    "assert first_bucket(name='junk') is None\n",
    "assert first_path(name='junk') is None\n",
    "assert list_buckets(name='junk') == []\n",
    "assert can_remove_bucket(name='junk')\n",
    "\n",
    "find_or_create_bucket(name='junk')\n",
    "\n",
    "assert len(list_buckets(name='junk')) == 1\n",
    "assert is_empty(name='junk')"
   ]
  },
  {
   "cell_type": "markdown",
   "metadata": {},
   "source": [
    "Bucket management is kind of cool. We can force a removal of a bucket, even with contents in it, but I'll create objects in the bucket first, then I can come back to that."
   ]
  },
  {
   "cell_type": "code",
   "execution_count": null,
   "metadata": {},
   "outputs": [],
   "source": [
    "def item_filter(**kw):\n",
    "    kw = merge_config(**kw)\n",
    "    return '*' # TODO\n",
    "    \n",
    "def find_items(**kw):\n",
    "    path = first_path(**kw)\n",
    "    if path is None: return []\n",
    "    return [o for o in path.glob(item_filter(**kw)) if o.is_file()]\n",
    "\n",
    "def put(**kw):\n",
    "    pass\n",
    "\n",
    "def get(**kw):\n",
    "    pass\n",
    "\n",
    "def get_stats(**kw):\n",
    "    pass\n",
    "\n",
    "def copy(**kw):\n",
    "    pass\n",
    "\n",
    "def remove(**kw):\n",
    "    pass\n"
   ]
  },
  {
   "cell_type": "code",
   "execution_count": null,
   "metadata": {},
   "outputs": [
    {
     "data": {
      "text/plain": [
       "[]"
      ]
     },
     "execution_count": null,
     "metadata": {},
     "output_type": "execute_result"
    }
   ],
   "source": [
    "find_items()"
   ]
  },
  {
   "cell_type": "markdown",
   "metadata": {},
   "source": [
    "TODO:\n",
    "\n",
    "* what is the thing? (open file reference, filename, url, content)\n",
    "* item filter syntax (include white list above)\n",
    "* underscore second-class functions (still exported, but not meant for the main interface)\n",
    "* put an object by its reference\n",
    "* deal with pickle or better-than-pickle"
   ]
  },
  {
   "cell_type": "code",
   "execution_count": null,
   "metadata": {},
   "outputs": [
    {
     "data": {
      "text/plain": [
       "PosixPath('/tmp/powerlog')"
      ]
     },
     "execution_count": null,
     "metadata": {},
     "output_type": "execute_result"
    }
   ],
   "source": [
    "first_path()"
   ]
  },
  {
   "cell_type": "code",
   "execution_count": null,
   "metadata": {},
   "outputs": [],
   "source": [
    "path = Path('/tmp')"
   ]
  },
  {
   "cell_type": "code",
   "execution_count": null,
   "metadata": {},
   "outputs": [
    {
     "data": {
      "text/plain": [
       "False"
      ]
     },
     "execution_count": null,
     "metadata": {},
     "output_type": "execute_result"
    }
   ],
   "source": [
    "path.is_file()"
   ]
  },
  {
   "cell_type": "code",
   "execution_count": null,
   "metadata": {},
   "outputs": [
    {
     "data": {
      "text/plain": [
       "re.Pattern"
      ]
     },
     "execution_count": null,
     "metadata": {},
     "output_type": "execute_result"
    }
   ],
   "source": [
    "re.Pattern"
   ]
  },
  {
   "cell_type": "code",
   "execution_count": null,
   "metadata": {},
   "outputs": [],
   "source": []
  }
 ],
 "metadata": {
  "kernelspec": {
   "display_name": "Python 3",
   "language": "python",
   "name": "python3"
  }
 },
 "nbformat": 4,
 "nbformat_minor": 2
}

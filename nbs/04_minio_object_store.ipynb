{
 "cells": [
  {
   "cell_type": "code",
   "execution_count": null,
   "metadata": {},
   "outputs": [],
   "source": [
    "#export\n",
    "from lab.imports import *"
   ]
  },
  {
   "cell_type": "code",
   "execution_count": null,
   "metadata": {},
   "outputs": [],
   "source": [
    "# default_exp train.minio_object_store"
   ]
  },
  {
   "cell_type": "code",
   "execution_count": null,
   "metadata": {},
   "outputs": [],
   "source": [
    "def list_buckets(**kw):\n",
    "    pass\n",
    "\n",
    "def find_or_create_bucket(**kw):\n",
    "    pass\n",
    "\n",
    "def remove_bucket(**kw):\n",
    "    pass\n",
    "\n",
    "def find_items(**kw):\n",
    "    pass\n",
    "\n",
    "def put(**kw):\n",
    "    pass\n",
    "\n",
    "def get(**kw):\n",
    "    pass\n",
    "\n",
    "def get_stats(**kw):\n",
    "    pass\n",
    "\n",
    "def copy(**kw):\n",
    "    pass\n",
    "\n",
    "def remove(**kw):\n",
    "    pass\n"
   ]
  },
  {
   "cell_type": "code",
   "execution_count": null,
   "metadata": {},
   "outputs": [],
   "source": []
  }
 ],
 "metadata": {
  "kernelspec": {
   "display_name": "Python 3",
   "language": "python",
   "name": "python3"
  }
 },
 "nbformat": 4,
 "nbformat_minor": 2
}

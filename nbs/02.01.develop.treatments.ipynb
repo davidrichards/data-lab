{
 "cells": [
  {
   "cell_type": "code",
   "execution_count": null,
   "metadata": {},
   "outputs": [],
   "source": [
    "#export\n",
    "from lab.imports import *\n",
    "import lab.develop.utils as utils\n",
    "import getpass"
   ]
  },
  {
   "cell_type": "code",
   "execution_count": null,
   "metadata": {},
   "outputs": [],
   "source": [
    "#default_exp develop.treatments"
   ]
  },
  {
   "cell_type": "markdown",
   "metadata": {},
   "source": [
    "# Develop Treatments\n",
    "\n",
    "..."
   ]
  },
  {
   "cell_type": "code",
   "execution_count": null,
   "metadata": {},
   "outputs": [],
   "source": [
    "# export\n",
    "\n",
    "store = utils.store\n",
    "start = utils.start\n",
    "revise = utils.revise"
   ]
  },
  {
   "cell_type": "code",
   "execution_count": null,
   "metadata": {},
   "outputs": [],
   "source": [
    "assert isinstance(store(name='foo'), dict)\n",
    "assert not store() # Not valid, no name\n",
    "\n",
    "version = start(name='foo', version='0.1.0')['version']\n",
    "assert utils.string_version(version) == '0.1.0'\n",
    "\n",
    "previous = datetime.utcnow() - dt.timedelta(days=1)\n",
    "now = datetime.utcnow()\n",
    "existing = start(name='foo', contributors='someone_else', now=previous)\n",
    "assert utils.string_version(existing['version']) == '0.0.1'\n",
    "revised = revise(name='foo', item=existing, now=now)\n",
    "assert revised['state'] == 'revised'\n",
    "assert revised['updated_at'] == now\n",
    "assert 'someone_else' in revised['contributors']\n",
    "assert getpass.getuser() in revised['contributors']\n",
    "assert utils.string_version(revised['version']) == '0.0.2'"
   ]
  },
  {
   "cell_type": "markdown",
   "metadata": {},
   "source": [
    "This only uses the existing utilities, I'll extend/specialize these tools here."
   ]
  },
  {
   "cell_type": "code",
   "execution_count": null,
   "metadata": {},
   "outputs": [],
   "source": []
  }
 ],
 "metadata": {
  "kernelspec": {
   "display_name": "Python 3",
   "language": "python",
   "name": "python3"
  }
 },
 "nbformat": 4,
 "nbformat_minor": 2
}

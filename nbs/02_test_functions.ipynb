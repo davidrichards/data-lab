{
 "cells": [
  {
   "cell_type": "code",
   "execution_count": null,
   "metadata": {},
   "outputs": [],
   "source": [
    "# default_exp util.test_functions"
   ]
  },
  {
   "cell_type": "markdown",
   "metadata": {},
   "source": [
    "# Test Functions\n",
    "\n",
    "Support a few test functions instead of using a particular test tool. I'm not sure if I want to keep these, but I've been using them while I've been building the library.\n",
    "\n",
    "* `check_raises` tests when something raises an errror.\n",
    "* `check_is_near` compares numbers and arrays, if necessary. Wraps `numpy.isclose`.\n",
    "* `check_equals` wraps `check_is_near`, enforcing equality."
   ]
  },
  {
   "cell_type": "code",
   "execution_count": null,
   "metadata": {},
   "outputs": [],
   "source": [
    "#hide\n",
    "from nbdev.showdoc import *"
   ]
  },
  {
   "cell_type": "code",
   "execution_count": null,
   "metadata": {},
   "outputs": [],
   "source": [
    "#export\n",
    "import numpy as np\n",
    "from contextlib import contextmanager"
   ]
  },
  {
   "cell_type": "code",
   "execution_count": null,
   "metadata": {},
   "outputs": [],
   "source": [
    "#export\n",
    "@contextmanager\n",
    "def check_raises(**kw):\n",
    "    \"\"\"Assert some code raises an error.\n",
    "    Can pass in a message (`check_raises(message=\"Custom message\")`).\n",
    "    Can pass in an exception (`check_raises(exception=ArgumentError)`).\n",
    "    \"\"\"\n",
    "    message = kw.get('message', \"Expected to raise, did not.\")\n",
    "    expected_exception = kw.get('exception', Exception)\n",
    "    failed = False\n",
    "    try:\n",
    "        yield\n",
    "    except expected_exception:\n",
    "        failed = True\n",
    "    except Exception as e:\n",
    "        message = f\"Expected to raise {expected_exception}. Instead received {e.__class__.__name__}\"\n",
    "    finally:\n",
    "        if not failed:\n",
    "            assert False, message\n",
    "\n",
    "def check_is_near(a, b, message=None, **kw):\n",
    "    \"\"\"Wrap the numpy isclose function.\"\"\"\n",
    "    if message is None:\n",
    "        message = f\"Expected {a} to be close to {b}.\"\n",
    "    result = np.isclose(a, b, **kw)\n",
    "    if np.size(result) == 1: result = [result]\n",
    "    if not all(result):\n",
    "        assert False, message\n",
    "\n",
    "def check_equals(a, b, **kw):\n",
    "    \"\"\"Check if two values are equal.\n",
    "    Not type sensitive.\n",
    "    Can handle 1 or n-dimensional objects.\"\"\"\n",
    "    kw = {**kw, **{'atol': 0, 'message': f\"Expected {a} to equal {b}.\"}}\n",
    "    return check_is_near(a, b, **kw)"
   ]
  },
  {
   "cell_type": "code",
   "execution_count": null,
   "metadata": {},
   "outputs": [],
   "source": [
    "with check_raises(exception=ValueError):\n",
    "    raise ValueError\n",
    "    \n",
    "with check_raises():\n",
    "    with check_raises(exception=ValueError):\n",
    "        raise ZeroDivisionError\n",
    "        \n",
    "check_is_near(1, 1.01, atol=0.01)\n",
    "check_is_near(np.zeros(3) + 1, 1)\n",
    "with check_raises():\n",
    "    cheeck_is_near(1, 2)\n",
    "    \n",
    "check_equals(1, 1)\n",
    "check_equals([1,1], 1)\n",
    "check_equals(np.zeros(2) + 1, 1)\n",
    "check_equals([1,2], [1,2])\n",
    "with check_raises():\n",
    "    check_equals([1,2], [1,2.01])"
   ]
  },
  {
   "cell_type": "code",
   "execution_count": null,
   "metadata": {},
   "outputs": [],
   "source": []
  }
 ],
 "metadata": {
  "kernelspec": {
   "display_name": "Python 3",
   "language": "python",
   "name": "python3"
  }
 },
 "nbformat": 4,
 "nbformat_minor": 2
}

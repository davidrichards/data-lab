{
 "cells": [
  {
   "cell_type": "code",
   "execution_count": null,
   "metadata": {},
   "outputs": [],
   "source": [
    "#hide\n",
    "from data_lab.core import *"
   ]
  },
  {
   "cell_type": "markdown",
   "metadata": {},
   "source": [
    "# Data Lab\n",
    "\n",
    "> Push experiments into production.\n",
    "\n",
    "We don't have consistent technology stacks when making sense out of data. Everyone of us has that problem when we go to work on some data--we can't just use a set of tools that are the same wherever we go. That's fair, because we are solving different problems, but that doesn't mean we can't make sense and talk about it.\n",
    "\n",
    "One thing that's worked for me and I suggest will work for you is to experiment early and reuse tools for integrating what you're learning. Use a notebook to take a note or try something out and make it easy to push that into production. This library has some of the tools that have worked for me, and I add to it as patterns emerge.\n",
    "\n",
    "## Demo\n",
    "\n",
    "TODO: show how I develop ideas into production-ready services.\n",
    "\n",
    "## Technology\n",
    "\n",
    "My stack is generally:\n",
    "\n",
    "* Python and Jupyter Notebooks for code\n",
    "* scikit-learn, PyTorch, XGBoost, FastAI, and a few other libraries for machine learning\n",
    "* S3 and PostgreSQL for data storage\n",
    "* Docker containers and cloud-agnostic (though weighted towards AWS) for runtime environments\n",
    "* nbdev, Jekyll, and Github for library maintenance, git hooks, documentation, and package maintenance\n",
    "\n",
    "## Principles\n",
    "\n",
    "The principles I like are:\n",
    "\n",
    "* Concentrate on one thing at a time\n",
    "* Make work reproducible\n",
    "* Experiment early\n",
    "* Create effective interfaces\n",
    "* Demonstrate ideas simply and directly"
   ]
  },
  {
   "cell_type": "markdown",
   "metadata": {},
   "source": [
    "## Install"
   ]
  },
  {
   "cell_type": "markdown",
   "metadata": {},
   "source": [
    "`pip install tbd`"
   ]
  },
  {
   "cell_type": "markdown",
   "metadata": {},
   "source": [
    "## How to use"
   ]
  },
  {
   "cell_type": "markdown",
   "metadata": {},
   "source": [
    "Fill me in please! Don't forget code examples:"
   ]
  },
  {
   "cell_type": "code",
   "execution_count": null,
   "metadata": {},
   "outputs": [
    {
     "data": {
      "text/plain": [
       "'bar'"
      ]
     },
     "execution_count": null,
     "metadata": {},
     "output_type": "execute_result"
    }
   ],
   "source": [
    "foo()"
   ]
  },
  {
   "cell_type": "code",
   "execution_count": null,
   "metadata": {},
   "outputs": [],
   "source": []
  }
 ],
 "metadata": {
  "kernelspec": {
   "display_name": "Python 3",
   "language": "python",
   "name": "python3"
  }
 },
 "nbformat": 4,
 "nbformat_minor": 2
}

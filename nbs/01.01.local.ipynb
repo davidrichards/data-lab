{
 "cells": [
  {
   "cell_type": "code",
   "execution_count": null,
   "metadata": {},
   "outputs": [
    {
     "ename": "ModuleNotFoundError",
     "evalue": "No module named 'lab'",
     "output_type": "error",
     "traceback": [
      "\u001b[0;31m---------------------------------------------------------------------------\u001b[0m",
      "\u001b[0;31mModuleNotFoundError\u001b[0m                       Traceback (most recent call last)",
      "\u001b[0;32m<ipython-input-1-20bf930fce67>\u001b[0m in \u001b[0;36m<module>\u001b[0;34m\u001b[0m\n\u001b[1;32m      1\u001b[0m \u001b[0;31m#export\u001b[0m\u001b[0;34m\u001b[0m\u001b[0;34m\u001b[0m\u001b[0;34m\u001b[0m\u001b[0m\n\u001b[0;32m----> 2\u001b[0;31m \u001b[0;32mfrom\u001b[0m \u001b[0mdata_lab\u001b[0m\u001b[0;34m.\u001b[0m\u001b[0mimports\u001b[0m \u001b[0;32mimport\u001b[0m \u001b[0;34m*\u001b[0m\u001b[0;34m\u001b[0m\u001b[0;34m\u001b[0m\u001b[0m\n\u001b[0m",
      "\u001b[0;32m~/codes/hydra/data-lab/nbs/data_lab/imports.py\u001b[0m in \u001b[0;36m<module>\u001b[0;34m\u001b[0m\n\u001b[1;32m     13\u001b[0m \u001b[0;34m\u001b[0m\u001b[0m\n\u001b[1;32m     14\u001b[0m \u001b[0;32mimport\u001b[0m \u001b[0mdata_lab\u001b[0m\u001b[0;34m.\u001b[0m\u001b[0mprototypes\u001b[0m\u001b[0;34m.\u001b[0m\u001b[0mtraining_pb2\u001b[0m \u001b[0;32mas\u001b[0m \u001b[0mtraining_prototypes\u001b[0m\u001b[0;34m\u001b[0m\u001b[0;34m\u001b[0m\u001b[0m\n\u001b[0;32m---> 15\u001b[0;31m \u001b[0;32mimport\u001b[0m \u001b[0mdata_lab\u001b[0m\u001b[0;34m.\u001b[0m\u001b[0mobject_store\u001b[0m\u001b[0;34m.\u001b[0m\u001b[0mnoop\u001b[0m \u001b[0;32mas\u001b[0m \u001b[0mnoop_object_store\u001b[0m\u001b[0;34m\u001b[0m\u001b[0;34m\u001b[0m\u001b[0m\n\u001b[0m\u001b[1;32m     16\u001b[0m \u001b[0;32mimport\u001b[0m \u001b[0mdata_lab\u001b[0m\u001b[0;34m.\u001b[0m\u001b[0mdevelop\u001b[0m\u001b[0;34m.\u001b[0m\u001b[0mutils\u001b[0m \u001b[0;32mas\u001b[0m \u001b[0mutils\u001b[0m\u001b[0;34m\u001b[0m\u001b[0;34m\u001b[0m\u001b[0m\n\u001b[1;32m     17\u001b[0m \u001b[0;34m\u001b[0m\u001b[0m\n",
      "\u001b[0;32m~/codes/hydra/data-lab/nbs/data_lab/object_store/noop.py\u001b[0m in \u001b[0;36m<module>\u001b[0;34m\u001b[0m\n\u001b[1;32m      4\u001b[0m \u001b[0;34m\u001b[0m\u001b[0m\n\u001b[1;32m      5\u001b[0m \u001b[0;31m# Cell\u001b[0m\u001b[0;34m\u001b[0m\u001b[0;34m\u001b[0m\u001b[0;34m\u001b[0m\u001b[0m\n\u001b[0;32m----> 6\u001b[0;31m \u001b[0;32mfrom\u001b[0m \u001b[0mlab\u001b[0m\u001b[0;34m.\u001b[0m\u001b[0mimports\u001b[0m \u001b[0;32mimport\u001b[0m \u001b[0;34m*\u001b[0m\u001b[0;34m\u001b[0m\u001b[0;34m\u001b[0m\u001b[0m\n\u001b[0m\u001b[1;32m      7\u001b[0m \u001b[0;34m\u001b[0m\u001b[0m\n\u001b[1;32m      8\u001b[0m \u001b[0;31m# Cell\u001b[0m\u001b[0;34m\u001b[0m\u001b[0;34m\u001b[0m\u001b[0;34m\u001b[0m\u001b[0m\n",
      "\u001b[0;31mModuleNotFoundError\u001b[0m: No module named 'lab'"
     ]
    }
   ],
   "source": [
    "#export\n",
    "from data_lab.imports import *"
   ]
  },
  {
   "cell_type": "code",
   "execution_count": null,
   "metadata": {},
   "outputs": [],
   "source": [
    "#default_exp object_store.local"
   ]
  },
  {
   "cell_type": "markdown",
   "metadata": {},
   "source": [
    "# Local\n",
    "\n",
    "Store data in a local volume. Uses the normal object store interface. All other functions are prefixed with an underscore."
   ]
  },
  {
   "cell_type": "code",
   "execution_count": null,
   "metadata": {},
   "outputs": [],
   "source": [
    "#export\n",
    "\n",
    "def list_buckets(**kw):\n",
    "    \"\"\"List buckets, using the keywords to create a filter,\n",
    "    limit, and order.\n",
    "    \n",
    "    For NOOP, provide a buckets key to get a test set back.\"\"\"\n",
    "    return kw.get('buckets', [])\n",
    "\n",
    "def find_or_create_bucket(**kw):\n",
    "    \"\"\"Find or create a bucket, returning the bucket.\n",
    "    Use the keywords to name the bucket.\n",
    "    \n",
    "    For NOOP, provide a bucket to get a test bucket back.\"\"\"\n",
    "    return kw.get('bucket')\n",
    "\n",
    "def remove_bucket(**kw):\n",
    "    \"\"\"Find and remove a bucket, if found.\n",
    "    Use the keywords to name the bucket.\n",
    "    \n",
    "    For NOOP, provide a bucket to get a test bucket back.\"\"\"\n",
    "    return kw.get('bucket')\n",
    "\n",
    "def find_items(**kw):\n",
    "    \"\"\"Find items in a bucket, returning a list of items.\n",
    "    Use the keywords to name the bucket as well as filter,\n",
    "    limit, and order the items.\n",
    "    \n",
    "    For NOOP, provide an items key to get a test set back.\n",
    "    \"\"\"\n",
    "    return kw.get('items', [])\n",
    "\n",
    "def put(**kw):\n",
    "    \"\"\"Put an item in a bucket, returning the status and the item.\n",
    "    \n",
    "    For NOOP, provide an item key to get a test item back.\"\"\"\n",
    "    return kw.get('item')\n",
    "\n",
    "def get(**kw):\n",
    "    \"\"\"Find an item in a bucket, returning the item if found.\n",
    "    Use the keywords to name the bucket as well as filter or name\n",
    "    the item.\n",
    "    \n",
    "    For NOOP, provide an item key to get a test item back.\"\"\"\n",
    "    return kw.get('item')\n",
    "\n",
    "def remove(**kw):\n",
    "    \"\"\"Remove an item from a bucket, if found, returning a status.\n",
    "    Use the keywords to name the bucket as well as filter or name\n",
    "    the item.\n",
    "    \n",
    "    For NOOP, provide a status key to get a test status back.\"\"\"\n",
    "    return kw.get('status')"
   ]
  },
  {
   "cell_type": "code",
   "execution_count": null,
   "metadata": {},
   "outputs": [],
   "source": [
    "assert list_buckets() == []\n",
    "assert list_buckets(buckets='buckets') == 'buckets'\n",
    "\n",
    "assert find_or_create_bucket() is None\n",
    "assert find_or_create_bucket(bucket='bucket') == 'bucket'\n",
    "\n",
    "assert remove_bucket() is None\n",
    "assert remove_bucket(bucket='bucket') == 'bucket'\n",
    "\n",
    "assert find_items() == []\n",
    "assert find_items(items='items') == 'items'\n",
    "\n",
    "assert put() is None\n",
    "assert put(item='item') == 'item'\n",
    "\n",
    "assert get() is None\n",
    "assert get(item='item') == 'item'\n",
    "\n",
    "assert remove() is None\n",
    "assert remove(status='status') == 'status'"
   ]
  },
  {
   "cell_type": "code",
   "execution_count": null,
   "metadata": {},
   "outputs": [],
   "source": []
  }
 ],
 "metadata": {
  "kernelspec": {
   "display_name": "Python 3",
   "language": "python",
   "name": "python3"
  }
 },
 "nbformat": 4,
 "nbformat_minor": 2
}

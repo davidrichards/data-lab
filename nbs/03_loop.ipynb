{
 "cells": [
  {
   "cell_type": "code",
   "execution_count": null,
   "metadata": {},
   "outputs": [],
   "source": [
    "# default_exp train.loop"
   ]
  },
  {
   "cell_type": "markdown",
   "metadata": {},
   "source": [
    "# Loop\n",
    "\n",
    "Training should be done on a loop: subjects and treatments all getting consistent model evaluation with results stored centrally.  Basically, create reproducible results quickly, automate the easy stuff.\n",
    "\n",
    "Here I gather a few utilities, practices, interfaces, and demonstrations to make this easier for everyone."
   ]
  },
  {
   "cell_type": "code",
   "execution_count": null,
   "metadata": {},
   "outputs": [],
   "source": [
    "#hide\n",
    "from nbdev.showdoc import *"
   ]
  },
  {
   "cell_type": "code",
   "execution_count": null,
   "metadata": {},
   "outputs": [],
   "source": [
    "%matplotlib inline\n",
    "import numpy as np\n",
    "from scipy import stats\n",
    "import matplotlib.pyplot as plt\n",
    "import pandas as pd\n",
    "import io\n",
    "import requests\n",
    "\n",
    "import datetime as dt\n",
    "from datetime import datetime\n",
    "import re\n",
    "\n",
    "from sklearn import model_selection\n",
    "from sklearn.linear_model import LogisticRegression\n",
    "from sklearn.tree import DecisionTreeClassifier\n",
    "from sklearn.neighbors import KNeighborsClassifier\n",
    "from sklearn.discriminant_analysis import LinearDiscriminantAnalysis\n",
    "from sklearn.naive_bayes import GaussianNB\n",
    "from sklearn.svm import SVC"
   ]
  },
  {
   "cell_type": "code",
   "execution_count": null,
   "metadata": {},
   "outputs": [],
   "source": [
    "#export\n",
    "def artifact_storage(*a, **kw):\n",
    "    \"\"\"Infer how the user intends to store\n",
    "    artifacts: models, versions, treatments,\n",
    "    and evaluation results.\"\"\"\n",
    "\n",
    "    def noop(subject, treatment, model, result): pass\n",
    "    return noop\n",
    "\n",
    "def generic_runner(subject, treatment, *a, **kw):\n",
    "    \"\"\"Naive concept. I have something smarter\n",
    "    running somewhere, but I'm not sure where it is.\"\"\"\n",
    "    storage = artifact_storage(*a, **kw)\n",
    "    model = None\n",
    "    result = treatment(subject)\n",
    "    return storage(subject, treatment, model, result)\n",
    "\n",
    "def runner(*a, **kw):\n",
    "    \"\"\"Infer the runner and its artifact storage.\"\"\"\n",
    "    return generic_runner\n",
    "\n",
    "def train_loop(subjects, treatments, *a, **kw):\n",
    "    \"\"\"The main training loop.\"\"\"\n",
    "\n",
    "    fn = runner(*a, **kw)\n",
    "\n",
    "    for subject in np.array(subjects):\n",
    "        for treatment in np.array(treatments):\n",
    "            fn(subject, treatment, *a, **kw)"
   ]
  },
  {
   "cell_type": "code",
   "execution_count": null,
   "metadata": {},
   "outputs": [
    {
     "name": "stdout",
     "output_type": "stream",
     "text": [
      "[ 9.9622511   8.25615328 10.52787943]\n",
      "t1: 10.96\n",
      "t2: 11.96\n",
      "t1: 9.26\n",
      "t2: 10.26\n",
      "t1: 11.53\n",
      "t2: 12.53\n"
     ]
    }
   ],
   "source": [
    "# This is not normal...expecting to use models, fit, predict,\n",
    "# hyper parameters, etc.\n",
    "\n",
    "def t(name, n, subject):\n",
    "    result = round(subject + n, 2)\n",
    "    print(f\"{name}: {result}\")\n",
    "    return result\n",
    "\n",
    "def t1(subject): return t('t1', 1, subject)\n",
    "def t2(subject): return t('t2', 2, subject)\n",
    "\n",
    "subjects = stats.norm.rvs(size=3) + 10\n",
    "print(subjects)\n",
    "\n",
    "train_loop(subjects, [t1, t2])"
   ]
  },
  {
   "cell_type": "markdown",
   "metadata": {},
   "source": [
    "So far, garbage.\n",
    "\n",
    "There's a possibility that I'm going this way, but I did that in reverse. So, I started fixing some things by training some models. And, that's giving me something more useful.\n",
    "\n",
    "The following is still wrong, but better."
   ]
  },
  {
   "cell_type": "code",
   "execution_count": null,
   "metadata": {},
   "outputs": [],
   "source": [
    "def content_from_url(url, decode='utf-8', certs=None, **kw):\n",
    "    \"\"\"Use requests to fetch content from a url\"\"\"\n",
    "    kw = {}\n",
    "    if not certs is None: kw['certs'] = certs\n",
    "    s = requests.get(url, **kw).content\n",
    "    if decode is False: return s\n",
    "    return s.decode(decode)\n",
    "\n",
    "def white_list(keywords, keys, require_keys=False):\n",
    "    \"\"\"Filter a dictionary by a set of keys\"\"\"\n",
    "    if require_keys:\n",
    "        return {key:keywords[key] for key in keys}\n",
    "    return {key:keywords.get(key) for key in keys}\n",
    "\n",
    "def dataframe_from_url(url, **kw):\n",
    "    \"\"\"Safely get data, decode it, use certs, and\n",
    "    create a Pandas DataFrame from the content.\"\"\"\n",
    "    content = content_from_url(url, **kw)\n",
    "    kw = white_list(kw, ['names'])\n",
    "    return pd.read_csv(io.StringIO(content), **kw)\n",
    "\n",
    "def values_from_url(url, **kw):\n",
    "    \"\"\"Safely get values from a dataframe.\"\"\"\n",
    "    df = dataframe_from_url(url, **kw)\n",
    "    return df.values\n",
    "\n",
    "def k_fold(**kw):\n",
    "    \"\"\"Use scikit-learn's KFold with some control\n",
    "    on reasonable defaults.\"\"\"\n",
    "    defaults = {'n_splits': 10}\n",
    "    kw = {**defaults, **kw}\n",
    "    return model_selection.KFold(**kw)\n",
    "\n",
    "def process_model(name, model, X, Y, storage={}, scoring='accuracy', **kw):\n",
    "    \"\"\"Process a model using K-Fold cross validation.\"\"\"\n",
    "    kfold = k_fold()\n",
    "    result = model_selection.cross_val_score(\n",
    "        model, X, Y,\n",
    "        cv=kfold, scoring=scoring\n",
    "    )\n",
    "    store(name, result, storage=storage)\n",
    "\n",
    "def store(name, result, storage={}):\n",
    "    \"\"\"Simple storage of treatment results.\"\"\"\n",
    "    storage[name] = result\n",
    "\n",
    "def plot_results(results, plot=None, title='Algorithm Comparison', **kw):\n",
    "    \"\"\"Create a box plot for each treatment in a results dictionary.\"\"\"\n",
    "    if plot is None: plot = plt\n",
    "\n",
    "    fig = plot.figure()\n",
    "    fig.suptitle(title)\n",
    "    ax = fig.add_subplot(111)\n",
    "    plt.boxplot(list(results.values()))\n",
    "    ax.set_xticklabels(list(results.keys()))\n",
    "    plot.show()\n",
    "\n",
    "def cheap_loop(treatments, subjects, display=True, **kw):\n",
    "    \"\"\"Create models without hyperparameter fine tuning\n",
    "    to determine which algorithms show promise on a particular\n",
    "    dataset\"\"\"\n",
    "    storage = {}\n",
    "    for (name, model) in treatments:\n",
    "        for (x, y) in subjects:\n",
    "            process_model(name, model(), x, y, storage=storage)\n",
    "    if display: plot_results(storage, **kw)\n",
    "    return storage"
   ]
  },
  {
   "cell_type": "code",
   "execution_count": null,
   "metadata": {},
   "outputs": [
    {
     "data": {
      "image/png": "[encoded data removed]",
      "text/plain": [
       "<Figure size 432x288 with 1 Axes>"
      ]
     },
     "metadata": {
      "needs_background": "light"
     },
     "output_type": "display_data"
    }
   ],
   "source": [
    "url = \"https://raw.githubusercontent.com/jbrownlee/Datasets/master/pima-indians-diabetes.data.csv\"\n",
    "names = ['preg', 'plas', 'pres', 'skin', 'test', 'mass', 'pedi', 'age', 'class']\n",
    "array = values_from_url(url, names=names)\n",
    "X = array[:,0:8]\n",
    "Y = array[:,8]\n",
    "\n",
    "treatments = [\n",
    "#     ('LR', LogisticRegression,\n",
    "    ('LDA', LinearDiscriminantAnalysis),\n",
    "    ('KNN', KNeighborsClassifier),\n",
    "    ('CART', DecisionTreeClassifier),\n",
    "    ('NB', GaussianNB),\n",
    "    ('SVM', SVC),\n",
    "]\n",
    "\n",
    "subjects = [\n",
    "    (X, Y)\n",
    "]\n",
    "\n",
    "cheap_loop(treatments, subjects);"
   ]
  },
  {
   "cell_type": "markdown",
   "metadata": {},
   "source": [
    "The cheap_loop is a quick-and-dirty approach to treating data (no hyperparameters are explored).\n",
    "\n",
    "LogisticRegression is throwing warnings, so I'm just skipping it for now.\n",
    "\n",
    "Could use some slips, combine some other work I've done, approach different scoring, quite a few other things."
   ]
  },
  {
   "cell_type": "code",
   "execution_count": null,
   "metadata": {},
   "outputs": [],
   "source": [
    "cv = k_fold()"
   ]
  },
  {
   "cell_type": "markdown",
   "metadata": {},
   "source": [
    "Understinding the interface with a bunch of training."
   ]
  },
  {
   "cell_type": "code",
   "execution_count": null,
   "metadata": {},
   "outputs": [
    {
     "data": {
      "text/plain": [
       "{'fit_time': array([0.00284123, 0.00209188, 0.00207591, 0.002074  , 0.00186324,\n",
       "        0.00179315, 0.00176191, 0.00222778, 0.00173807, 0.00225019]),\n",
       " 'score_time': array([0.00074077, 0.00052929, 0.00045204, 0.00051403, 0.00042701,\n",
       "        0.00041103, 0.00039101, 0.00042534, 0.000386  , 0.00049567]),\n",
       " 'test_score': array([0.7012987 , 0.83116883, 0.75324675, 0.67532468, 0.77922078,\n",
       "        0.76623377, 0.84415584, 0.81818182, 0.76315789, 0.80263158])}"
      ]
     },
     "execution_count": null,
     "metadata": {},
     "output_type": "execute_result"
    }
   ],
   "source": [
    "model_selection.cross_validate(LinearDiscriminantAnalysis(), X, Y, cv=cv)"
   ]
  },
  {
   "cell_type": "code",
   "execution_count": null,
   "metadata": {},
   "outputs": [
    {
     "data": {
      "text/plain": [
       "{'n_splits': 10, 'shuffle': False, 'random_state': None}"
      ]
     },
     "execution_count": null,
     "metadata": {},
     "output_type": "execute_result"
    }
   ],
   "source": [
    "cv.__dict__"
   ]
  },
  {
   "cell_type": "code",
   "execution_count": null,
   "metadata": {},
   "outputs": [
    {
     "data": {
      "text/plain": [
       "{'fit_time': array([0.00222588, 0.00221896, 0.0016861 , 0.00167203, 0.00145221]),\n",
       " 'score_time': array([0.00042915, 0.00046015, 0.00040698, 0.00041199, 0.00033998]),\n",
       " 'test_score': array([0.77272727, 0.74025974, 0.74025974, 0.81045752, 0.77777778])}"
      ]
     },
     "execution_count": null,
     "metadata": {},
     "output_type": "execute_result"
    }
   ],
   "source": [
    "model_selection.cross_validate(LinearDiscriminantAnalysis(), X, Y, n_jobs=2)"
   ]
  },
  {
   "cell_type": "markdown",
   "metadata": {},
   "source": [
    "The n_jobs determines how many CPUs to use.\n",
    "\n",
    "Having a wrapper around such a powerful wrapper is weird, but not everything is scikit-learn. So, using a PyTorch example, wrapping with these tools, could be a good justification or a wake up moment that this really is a bad idea (the way I'm abstracting it)."
   ]
  },
  {
   "cell_type": "code",
   "execution_count": null,
   "metadata": {},
   "outputs": [
    {
     "name": "stderr",
     "output_type": "stream",
     "text": [
      "[Parallel(n_jobs=1)]: Using backend SequentialBackend with 1 concurrent workers.\n",
      "[Parallel(n_jobs=1)]: Done   5 out of   5 | elapsed:    0.0s finished\n"
     ]
    },
    {
     "data": {
      "text/plain": [
       "{'fit_time': array([0.00283289, 0.003443  , 0.0022049 , 0.00180292, 0.00163603]),\n",
       " 'score_time': array([0.00084019, 0.00051022, 0.0004847 , 0.0004189 , 0.00039029]),\n",
       " 'test_score': array([0.77272727, 0.74025974, 0.74025974, 0.81045752, 0.77777778])}"
      ]
     },
     "execution_count": null,
     "metadata": {},
     "output_type": "execute_result"
    }
   ],
   "source": [
    "model_selection.cross_validate(LinearDiscriminantAnalysis(), X, Y, verbose=1)"
   ]
  },
  {
   "cell_type": "code",
   "execution_count": null,
   "metadata": {},
   "outputs": [
    {
     "name": "stdout",
     "output_type": "stream",
     "text": [
      "[CV]  ................................................................\n",
      "[CV] ................................................. , total=   0.0s\n",
      "[CV]  ................................................................\n",
      "[CV] ................................................. , total=   0.0s\n",
      "[CV]  ................................................................\n",
      "[CV] ................................................. , total=   0.0s\n",
      "[CV]  ................................................................\n",
      "[CV] ................................................. , total=   0.0s\n",
      "[CV]  ................................................................\n",
      "[CV] ................................................. , total=   0.0s\n"
     ]
    },
    {
     "name": "stderr",
     "output_type": "stream",
     "text": [
      "[Parallel(n_jobs=1)]: Using backend SequentialBackend with 1 concurrent workers.\n",
      "[Parallel(n_jobs=1)]: Done   1 out of   1 | elapsed:    0.0s remaining:    0.0s\n",
      "[Parallel(n_jobs=1)]: Done   5 out of   5 | elapsed:    0.0s finished\n"
     ]
    },
    {
     "data": {
      "text/plain": [
       "{'fit_time': array([0.0026927 , 0.00238109, 0.00245404, 0.00224495, 0.00217009]),\n",
       " 'score_time': array([0.00056028, 0.00041699, 0.00064802, 0.00065184, 0.00063705]),\n",
       " 'test_score': array([0.77272727, 0.74025974, 0.74025974, 0.81045752, 0.77777778])}"
      ]
     },
     "execution_count": null,
     "metadata": {},
     "output_type": "execute_result"
    }
   ],
   "source": [
    "model_selection.cross_validate(LinearDiscriminantAnalysis(), X, Y, verbose=2)"
   ]
  },
  {
   "cell_type": "code",
   "execution_count": null,
   "metadata": {},
   "outputs": [
    {
     "name": "stdout",
     "output_type": "stream",
     "text": [
      "[CV]  ................................................................\n",
      "[CV] .................................... , score=0.773, total=   0.0s\n",
      "[CV]  ................................................................\n",
      "[CV] .................................... , score=0.740, total=   0.0s\n",
      "[CV]  ................................................................\n",
      "[CV] .................................... , score=0.740, total=   0.0s\n",
      "[CV]  ................................................................\n",
      "[CV] .................................... , score=0.810, total=   0.0s\n",
      "[CV]  ................................................................\n",
      "[CV] .................................... , score=0.778, total=   0.0s\n"
     ]
    },
    {
     "name": "stderr",
     "output_type": "stream",
     "text": [
      "[Parallel(n_jobs=1)]: Using backend SequentialBackend with 1 concurrent workers.\n",
      "[Parallel(n_jobs=1)]: Done   1 out of   1 | elapsed:    0.0s remaining:    0.0s\n",
      "[Parallel(n_jobs=1)]: Done   2 out of   2 | elapsed:    0.0s remaining:    0.0s\n",
      "[Parallel(n_jobs=1)]: Done   5 out of   5 | elapsed:    0.0s finished\n"
     ]
    },
    {
     "data": {
      "text/plain": [
       "{'fit_time': array([0.00233173, 0.00268102, 0.00242209, 0.00202513, 0.00237703]),\n",
       " 'score_time': array([0.00042295, 0.00044489, 0.00042987, 0.00041795, 0.00052691]),\n",
       " 'test_score': array([0.77272727, 0.74025974, 0.74025974, 0.81045752, 0.77777778])}"
      ]
     },
     "execution_count": null,
     "metadata": {},
     "output_type": "execute_result"
    }
   ],
   "source": [
    "model_selection.cross_validate(LinearDiscriminantAnalysis(), X, Y, verbose=3)"
   ]
  },
  {
   "cell_type": "markdown",
   "metadata": {},
   "source": [
    "OK, so verbosity is kind of cool. The docs didn't show me what I could more easily just check here. I can get information about the concurrency, or see each job visually while it works."
   ]
  },
  {
   "cell_type": "code",
   "execution_count": null,
   "metadata": {},
   "outputs": [
    {
     "data": {
      "text/plain": [
       "{'fit_time': array([0.00182199, 0.00171113, 0.00412798, 0.00208426, 0.00203609]),\n",
       " 'score_time': array([0.00042486, 0.0007627 , 0.00122786, 0.00051093, 0.00054097]),\n",
       " 'test_score': array([0.77272727, 0.74025974, 0.74025974, 0.81045752, 0.77777778]),\n",
       " 'train_score': array([0.78338762, 0.76872964, 0.78013029, 0.76910569, 0.78373984])}"
      ]
     },
     "execution_count": null,
     "metadata": {},
     "output_type": "execute_result"
    }
   ],
   "source": [
    "model_selection.cross_validate(LinearDiscriminantAnalysis(), X, Y, return_train_score=True)"
   ]
  },
  {
   "cell_type": "code",
   "execution_count": null,
   "metadata": {},
   "outputs": [
    {
     "data": {
      "text/plain": [
       "{'fit_time': array([0.00188208, 0.00185418, 0.00271082, 0.00180984, 0.0021534 ]),\n",
       " 'score_time': array([0.00064898, 0.00049591, 0.00125909, 0.00047708, 0.00051475]),\n",
       " 'estimator': (LinearDiscriminantAnalysis(n_components=None, priors=None, shrinkage=None,\n",
       "                             solver='svd', store_covariance=False, tol=0.0001),\n",
       "  LinearDiscriminantAnalysis(n_components=None, priors=None, shrinkage=None,\n",
       "                             solver='svd', store_covariance=False, tol=0.0001),\n",
       "  LinearDiscriminantAnalysis(n_components=None, priors=None, shrinkage=None,\n",
       "                             solver='svd', store_covariance=False, tol=0.0001),\n",
       "  LinearDiscriminantAnalysis(n_components=None, priors=None, shrinkage=None,\n",
       "                             solver='svd', store_covariance=False, tol=0.0001),\n",
       "  LinearDiscriminantAnalysis(n_components=None, priors=None, shrinkage=None,\n",
       "                             solver='svd', store_covariance=False, tol=0.0001)),\n",
       " 'test_score': array([0.77272727, 0.74025974, 0.74025974, 0.81045752, 0.77777778])}"
      ]
     },
     "execution_count": null,
     "metadata": {},
     "output_type": "execute_result"
    }
   ],
   "source": [
    "model_selection.cross_validate(LinearDiscriminantAnalysis(), X, Y, return_estimator=True)"
   ]
  },
  {
   "cell_type": "markdown",
   "metadata": {},
   "source": [
    "So, at this point I've got some comfort around what works, or at least how this works. I'm a little loose on scoring (I should explore and grok that much better).\n",
    "\n",
    "Working in this way is worth 10 articles. There is no replacement for experimentation."
   ]
  },
  {
   "cell_type": "code",
   "execution_count": null,
   "metadata": {},
   "outputs": [
    {
     "data": {
      "text/plain": [
       "array([0.77272727, 0.74025974, 0.74025974, 0.81045752, 0.77777778])"
      ]
     },
     "execution_count": null,
     "metadata": {},
     "output_type": "execute_result"
    }
   ],
   "source": [
    "model_selection.cross_val_score(LinearDiscriminantAnalysis(), X, Y)"
   ]
  },
  {
   "cell_type": "markdown",
   "metadata": {},
   "source": [
    "What's nice about cross_val_score is it has mostly the same interface as cross_validate, but it only returns the scoring. If I'm not going to keep the fit time and score time, then I can just ignore that.\n",
    "\n",
    "What I'm starting to think is I should normally keep the fit time. I also want a predict time and a develop time. It takes 3 days to build a model, say, and 10 minutes to train it and the resulting model can run in 100 milliseconds. Knowing that, I can spend 5 days building something that trains in 2 hours but returns either better results, or faster results, or some reason to have it.\n",
    "\n",
    "These are the values needed in the lab and in production. There are always a lot of metrics flying around, and developing confidence with what they mean and what to do needs to be translated into an experiential flow instead of a reflective stall.\n",
    "\n",
    "--\n",
    "\n",
    "At this point I'm thinking about abstraction again. What should I use? Do I want kfold?\n",
    "\n",
    "It's not as important as I made it.\n",
    "\n",
    "Do I want to go to a pandas dataframe?\n",
    "\n",
    "Maybe for now, but once I get a better sense of extract X, y, then maybe not so much.\n",
    "\n",
    "Why didn't you use tools for splitting the data?\n",
    "\n",
    "I think they had the cross validation, that those needed to be static. It makes assumptions about the data too, that they're independently and randomly distributed in the dataset. If I didn't have that, I should have split the data with tools.\n",
    "\n",
    "OK, so this is useful:\n",
    "\n",
    "* abstraction is off, can work better\n",
    "* grok is off (I'm shooting from the hip)\n",
    "\n"
   ]
  },
  {
   "cell_type": "markdown",
   "metadata": {},
   "source": [
    "Notes:\n",
    "\n",
    "* [emulating containers](https://docs.python.org/3/reference/datamodel.html?emulating-container-types#emulating-container-types)"
   ]
  },
  {
   "cell_type": "code",
   "execution_count": null,
   "metadata": {},
   "outputs": [],
   "source": [
    "#export\n",
    "def get_matches(r, s):\n",
    "    \"\"\"Return all matches, or an empty list.\"\"\"\n",
    "    result = re.search(r, s)\n",
    "    if result is None: return []\n",
    "    return list(result.groups())\n",
    "\n",
    "def get_nth_match(r, s, n):\n",
    "    \"\"\"Search the string for a regular expression.\n",
    "    If there is a match, return the nth value(s).\n",
    "    \"\"\"\n",
    "    found = get_matches(r, s)\n",
    "    try:\n",
    "        return found[n]\n",
    "    except IndexError:\n",
    "        return None\n",
    "\n",
    "def get_first_match(r, s):\n",
    "    \"\"\"Shorthand for get_nth_match.\"\"\"\n",
    "    return get_nth_match(r, s, 0)"
   ]
  },
  {
   "cell_type": "code",
   "execution_count": null,
   "metadata": {},
   "outputs": [],
   "source": [
    "r = r'(.+), (.+), and (.+)'\n",
    "s = \"a, b, and c\"\n",
    "assert get_nth_match(r, s, slice(0,2)) == list('ab')\n",
    "\n",
    "r = r'test_(.+)'\n",
    "s = 'test_accuracy'\n",
    "assert get_matches(r, s) == ['accuracy']\n",
    "assert get_first_match(r, s) == 'accuracy'\n",
    "\n",
    "r = r'foo_bar'\n",
    "s = 'No match'\n",
    "assert get_first_match(r, s) is None"
   ]
  },
  {
   "cell_type": "markdown",
   "metadata": {},
   "source": [
    "Able to extract keys out of strings, using a regular expression without exposing the internal re quirks.\n",
    "\n",
    "If I know what I'm doing, I can use a slice.\n",
    "\n",
    "This comes from a [StackOverflow question](https://stackoverflow.com/questions/15340582/python-extract-pattern-matches)."
   ]
  },
  {
   "cell_type": "code",
   "execution_count": null,
   "metadata": {},
   "outputs": [],
   "source": [
    "class IncrementVersion:\n",
    "    \"\"\"Increment a version string.\n",
    "    There are packages for this (bumpversion) and\n",
    "    package-management tools, but I thought this\n",
    "    would be easier than it was.\"\"\"\n",
    "    \n",
    "    DEFAULT_VERSION = '0.0.0'\n",
    "    LEVELS = ['major', 'minor', 'patch']\n",
    "    DEFAULT_LEVEL = 'patch'\n",
    "    ZEROS = [0, 0, 0]\n",
    "    \n",
    "    @classmethod\n",
    "    def call(cls, version, **kw):\n",
    "        return cls()(version, **kw)\n",
    "        \n",
    "    def split_version(self, version):\n",
    "        try:\n",
    "            return [int(e) for e in str(version).split('.')]\n",
    "        except:\n",
    "            return self.ZEROS\n",
    "        \n",
    "    def get_version_parts(self, version):\n",
    "        \"\"\"Get a 3-piece version\"\"\"\n",
    "        values = self.split_version(version)[:3]\n",
    "        values = np.append(values, self.ZEROS)\n",
    "        return values[:3]\n",
    "    \n",
    "    def increment_version(self, version, level='patch', value=None, **kw):\n",
    "        \"\"\"Increment the major, minor, or patch.\n",
    "        Pass in the value, if an explicit value is needed.\n",
    "        \"\"\"\n",
    "        \n",
    "        if not level in self.LEVELS: level = self.DEFAULT_LEVEL\n",
    "        level_index = self.LEVELS.index(level)\n",
    "        parts = self.get_version_parts(version)\n",
    "        results = []\n",
    "        for i, e in enumerate(parts):\n",
    "            if i < level_index:\n",
    "                results.append(str(e))\n",
    "            elif i == level_index:\n",
    "                if value is None: value = e + 1\n",
    "                results.append(str(value))\n",
    "            else:\n",
    "                results.append('0')\n",
    "                \n",
    "        return '.'.join(results)\n",
    "\n",
    "    def __call__(self, version, **kw):\n",
    "        return self.increment_version(version, **kw)\n"
   ]
  },
  {
   "cell_type": "code",
   "execution_count": null,
   "metadata": {},
   "outputs": [],
   "source": [
    "assert IncrementVersion.call('0.0.1') == '0.0.2'\n",
    "assert IncrementVersion.call('') == '0.0.1'\n",
    "assert IncrementVersion.call('', level='major') == '1.0.0'\n",
    "assert IncrementVersion.call('0.1.1', level='minor') == '0.2.0'\n",
    "assert IncrementVersion.call('1.1.1.1', level='flurb') == '1.1.2'"
   ]
  },
  {
   "cell_type": "markdown",
   "metadata": {},
   "source": [
    "This seems to work, with a missing version, different values, nonsense inputs, too-long inputs...it wasn't worth it writing my own, but there you have it."
   ]
  },
  {
   "cell_type": "code",
   "execution_count": null,
   "metadata": {},
   "outputs": [],
   "source": [
    "class Storage:\n",
    "    TEST_RE = r'test_(.+)'\n",
    "    DEFAULT_VERSION = '0.0.1'\n",
    "    DEFAULT = dict(\n",
    "        version=DEFAULT_VERSION,\n",
    "        fit_params={},\n",
    "        tests={},\n",
    "        fit_time=0,\n",
    "        trained_at=None\n",
    "    )\n",
    "    \n",
    "    def __init__(self, **kw):\n",
    "        self.kw = kw\n",
    "        self.records = {}\n",
    "        self.archive = []\n",
    "        \n",
    "    def __len__(self): return len(self.records)\n",
    "    def __length_hint(self): return self.__len__()\n",
    "    def __getitem__(self, key): return self.records.get(key)\n",
    "    \n",
    "    def _retire(self, key):\n",
    "        \"\"\"If it exists, retire the old version of a record.\n",
    "        Return the version of that record.\n",
    "        Otherwise return False.\n",
    "        Either way, this value can be incremented to get a new\n",
    "        version.\"\"\"\n",
    "        old = self.records.pop(key,None)\n",
    "        if old is None: return False\n",
    "        old['model_name'] = key\n",
    "        self.archive.append(old)\n",
    "        return old.get('version')\n",
    "    \n",
    "    def _get_version(self, key):\n",
    "        \"\"\"Retire an old record if it exists and increment the version.\"\"\"\n",
    "        old_version = self._retire(key)\n",
    "        return IncrementVersion.call(old_version)\n",
    "    \n",
    "    def _get_default(self, key):\n",
    "        \"\"\"Merge the best ideas for a default record.\"\"\"\n",
    "        version = self._get_version(key)\n",
    "        record = {\n",
    "            **self.DEFAULT,\n",
    "            **{'version': version},\n",
    "            **self.records.get(key, {})\n",
    "        }\n",
    "\n",
    "        if record.get('trained_at') is None:\n",
    "            record['trained_at'] = datetime.utcnow()\n",
    "\n",
    "        return record\n",
    "        \n",
    "    def __setitem__(self, key, value):\n",
    "        record = self._get_default(key)\n",
    "        value = dict(value)\n",
    "        for k, v in value.items():\n",
    "            name = get_first_match(self.TEST_RE, k)\n",
    "            if name is None:\n",
    "                record[k] = v\n",
    "            else:\n",
    "                record['tests'][name] = v\n",
    "        self.records[key] = record\n",
    "        return record\n",
    "    \n",
    "    def __repr__(self):\n",
    "        return str(self.records)\n"
   ]
  },
  {
   "cell_type": "code",
   "execution_count": null,
   "metadata": {},
   "outputs": [],
   "source": [
    "def get_demo_data(url=None):\n",
    "    \"\"\"Return a simple/reusable dataset (y, X).\n",
    "    TODO: Use a more-generic splitting technique.\n",
    "    TODO: Replace external extraction with internal.\"\"\"\n",
    "    if url is None:\n",
    "        url = \"https://raw.githubusercontent.com/jbrownlee/Datasets/master/pima-indians-diabetes.data.csv\"\n",
    "    array = values_from_url(url)\n",
    "    return array[:,8], array[:,0:8]"
   ]
  },
  {
   "cell_type": "code",
   "execution_count": null,
   "metadata": {},
   "outputs": [],
   "source": [
    "y, X = get_demo_data()\n",
    "assert np.shape(y) == (767,)\n",
    "assert np.shape(X) == (767, 8)"
   ]
  },
  {
   "cell_type": "code",
   "execution_count": null,
   "metadata": {},
   "outputs": [],
   "source": [
    "subject = Storage(now=now)\n",
    "assert str(subject) == str({}) # Basic repr\n",
    "assert subject['not_found'] is None # Safe/simpler to get\n",
    "\n",
    "r1 = model_selection.cross_validate(LinearDiscriminantAnalysis(), X, y)\n",
    "subject['LDA'] = r1\n",
    "assert subject['LDA']['version'] == '0.0.1'\n",
    "assert subject['LDA']['fit_params'] == Storage.DEFAULT['fit_params']\n",
    "lda_tests = subject['LDA']['tests']\n",
    "assert all(lda_tests['score'] == result['test_score'])\n",
    "assert 'trained_at' in subject['LDA']\n",
    "assert 'score_time' in subject['LDA']\n",
    "\n",
    "r2_now = datetime.utcnow()\n",
    "r2 = model_selection.cross_validate(\n",
    "    LinearDiscriminantAnalysis(), X, y,\n",
    "    scoring=['accuracy', 'f1']\n",
    ")\n",
    "r2['trained_at'] = r2_now\n",
    "subject['LDA'] = r2\n",
    "archived = subject.archive[-1]\n",
    "assert archived['version'] == '0.0.1'\n",
    "assert archived['model_name'] == 'LDA'\n",
    "assert subject['LDA']['version'] == '0.0.2'\n",
    "assert subject['LDA']['trained_at'] == r2_now\n",
    "assert 'accuracy' in subject['LDA']['tests']\n",
    "assert 'f1' in subject['LDA']['tests']"
   ]
  },
  {
   "cell_type": "markdown",
   "metadata": {},
   "source": [
    "Storage is kind of cool at this point. It allows me to treat storage like it's a dictionary, meaning it's a cheap replacement for an in-memory tool. It adds some versioning, timestamping, archiving, and basically invents an easy-to-mock interface for storage. Later, this will wrap something like MinIO. That might not be 100% appropriate, but I want to ease into something I can understand/mock/extend.\n",
    "\n",
    "From here, I'd like to add some new wraps around the basic processing. Replace what's above with similar below. Specifically:\n",
    "\n",
    "**Treatments** I want to create some defaults around treatments that just work. This is for baseline models, classification, regression, unsupervised, semi-supervised, NLP, deep learning--all of it. Make it easy to find and pick what's normal in a situation.\n",
    "\n",
    "**Slips** I want to put more slips in my notebooks. I want to store/find/reuse these as documentation. I'm making a notebook a multi-step production, which slows it down. Let me just drop a `#slip` comment at the top of a markdown cell and make that searchable. I'll include full references in those cells.\n",
    "\n",
    "**Evaluation** I want to develop transparency around evaluation. What's common? What can I reuse? Again, I'm dealing with all the kinds of models and analysis here. Not everything applies to everything, but I want to have a quick way of seeing that good work is consistently done, or the most-obvious thing is to do the best practice first. The idea is that I want to train models with my best ideas, learn better ones, and start evaluating in better ways later, coming back to earlier models if I choose to.\n",
    "\n",
    "**Processing** Make the process just work: subjects and treatments, evaluations and storage. Create a learning loop.\n",
    "\n",
    "**Storage** Storage isn't quite done yet. Yes, there's the permanent version of this, an object storage, likely in MinIO. Also, there's storing models. Let me move those easily into production once they're trained, evaluated, tuned, and approved-of here. This suggests an interface change, that I was probably naive with what I did above on Storage."
   ]
  },
  {
   "cell_type": "code",
   "execution_count": null,
   "metadata": {},
   "outputs": [],
   "source": [
    "\n",
    "        \n",
    "        \n",
    "# {'fit_time': array([0.00210023, 0.00220704, 0.00217891, 0.00219107, 0.00271726]),\n",
    "#  'score_time': array([0.00784898, 0.00204897, 0.00181198, 0.00148892, 0.00190783]),\n",
    "#  'test_accuracy': array([0.77272727, 0.74025974, 0.74025974, 0.81045752, 0.77777778]),\n",
    "#  'test_balanced_accuracy': array([0.72703704, 0.71055556, 0.68074074, 0.77075472, 0.72358491])}\n",
    "        \n",
    "        \n",
    "\n",
    "def k_fold(**kw):\n",
    "    \"\"\"Use scikit-learn's KFold with some control\n",
    "    on reasonable defaults.\"\"\"\n",
    "    defaults = {'n_splits': 10}\n",
    "    kw = {**defaults, **kw}\n",
    "    return model_selection.KFold(**kw)\n",
    "\n",
    "def process_model(name, model, X, Y, storage={}, scoring='accuracy', **kw):\n",
    "    \"\"\"Process a model using K-Fold cross validation.\"\"\"\n",
    "    kfold = k_fold()\n",
    "    result = model_selection.cross_val_score(\n",
    "        model, X, Y,\n",
    "        cv=kfold, scoring=scoring\n",
    "    )\n",
    "    return store(name, result, storage=storage)\n",
    "\n",
    "def store(name, result, storage={}):\n",
    "    \"\"\"Simple storage of treatment results.\"\"\"\n",
    "    storage[name] = result\n",
    "    return storage\n",
    "\n",
    "def plot_results(results, plot=None, title='Algorithm Comparison', **kw):\n",
    "    \"\"\"Create a box plot for each treatment in a results dictionary.\"\"\"\n",
    "    if plot is None: plot = plt\n",
    "\n",
    "    fig = plot.figure()\n",
    "    fig.suptitle(title)\n",
    "    ax = fig.add_subplot(111)\n",
    "    plt.boxplot(list(results.values()))\n",
    "    ax.set_xticklabels(list(results.keys()))\n",
    "    plot.show()\n",
    "\n",
    "def cheap_loop(treatments, subjects, display=True, **kw):\n",
    "    \"\"\"Create models without hyperparameter fine tuning\n",
    "    to determine which algorithms show promise on a particular\n",
    "    dataset\"\"\"\n",
    "    storage = {}\n",
    "    for (name, model) in treatments:\n",
    "        for (x, y) in subjects:\n",
    "            process_model(name, model(), x, y, storage=storage)\n",
    "    if display: plot_results(storage, **kw)\n",
    "    return storage"
   ]
  },
  {
   "cell_type": "code",
   "execution_count": null,
   "metadata": {},
   "outputs": [],
   "source": []
  }
 ],
 "metadata": {
  "kernelspec": {
   "display_name": "Python 3",
   "language": "python",
   "name": "python3"
  }
 },
 "nbformat": 4,
 "nbformat_minor": 2
}

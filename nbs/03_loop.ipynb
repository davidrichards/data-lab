{
 "cells": [
  {
   "cell_type": "code",
   "execution_count": 1,
   "metadata": {},
   "outputs": [],
   "source": [
    "# default_exp train.loop"
   ]
  },
  {
   "cell_type": "markdown",
   "metadata": {},
   "source": [
    "# Loop\n",
    "\n",
    "Training should be done on a loop: subjects and treatments all getting consistent model evaluation with results stored centrally.  Basically, create reproducible results quickly, automate the easy stuff.\n",
    "\n",
    "Here I gather a few utilities, practices, interfaces, and demonstrations to make this easier for everyone."
   ]
  },
  {
   "cell_type": "code",
   "execution_count": 2,
   "metadata": {},
   "outputs": [],
   "source": [
    "#hide\n",
    "from nbdev.showdoc import *"
   ]
  },
  {
   "cell_type": "code",
   "execution_count": 5,
   "metadata": {},
   "outputs": [],
   "source": [
    "import numpy as np\n",
    "from scipy import stats"
   ]
  },
  {
   "cell_type": "code",
   "execution_count": 4,
   "metadata": {},
   "outputs": [],
   "source": [
    "#export\n",
    "def artifact_storage(*a, **kw):\n",
    "    \"\"\"Infer how the user intends to store\n",
    "    artifacts: models, versions, treatments,\n",
    "    and evaluation results.\"\"\"\n",
    "    \n",
    "    def noop(subject, treatment, model, result): pass\n",
    "    return noop\n",
    "\n",
    "def generic_runner(subject, treatment, *a, **kw):\n",
    "    \"\"\"Naive concept. I have something smarter\n",
    "    running somewhere, but I'm not sure where it is.\"\"\"\n",
    "    storage = artifact_storage(*a, **kw)\n",
    "    model = None\n",
    "    result = treatment(subject)\n",
    "    return storage(subject, treatment, model, result)\n",
    "    \n",
    "def runner(*a, **kw):\n",
    "    \"\"\"Infer the runner and its artifact storage.\"\"\"\n",
    "    return generic_runner\n",
    "\n",
    "def train_loop(subjects, treatments, *a, **kw):\n",
    "    \"\"\"The main training loop.\"\"\"\n",
    "    \n",
    "    fn = runner(*a, **kw)\n",
    "    \n",
    "    for subject in np.array(subjects):\n",
    "        for treatment in np.array(treatments):\n",
    "            fn(subject, treatment, *a, **kw)\n"
   ]
  },
  {
   "cell_type": "code",
   "execution_count": 8,
   "metadata": {},
   "outputs": [
    {
     "name": "stdout",
     "output_type": "stream",
     "text": [
      "[10.42164023  9.2040922  10.05040423]\n",
      "t1: 11.42\n",
      "t2: 12.42\n",
      "t1: 10.2\n",
      "t2: 11.2\n",
      "t1: 11.05\n",
      "t2: 12.05\n"
     ]
    }
   ],
   "source": [
    "# This is not normal...expecting to use models, fit, predict,\n",
    "# hyper parameters, etc.\n",
    "\n",
    "def t(name, n, subject):\n",
    "    result = round(subject + n, 2)\n",
    "    print(f\"{name}: {result}\")\n",
    "    return result\n",
    "\n",
    "def t1(subject): return t('t1', 1, subject)\n",
    "def t2(subject): return t('t2', 2, subject)\n",
    "\n",
    "subjects = stats.norm.rvs(size=3) + 10\n",
    "print(subjects)\n",
    "\n",
    "train_loop(subjects, [t1, t2])"
   ]
  },
  {
   "cell_type": "markdown",
   "metadata": {},
   "source": [
    "So, I don't have what I want yet, specifically:\n",
    "\n",
    "* interfaces\n",
    "* organizing and storing models\n",
    "* reusing what already has been trained\n",
    "* bringing in evaluation\n",
    "* using good train/test split\n",
    "* using good evalusation, even for imbalanced classes\n",
    "\n",
    "I don't want anything setup, but the part involving storage, reuse, reproducability, and transparency can be done here."
   ]
  },
  {
   "cell_type": "code",
   "execution_count": null,
   "metadata": {},
   "outputs": [],
   "source": []
  }
 ],
 "metadata": {
  "kernelspec": {
   "display_name": "Python 3",
   "language": "python",
   "name": "python3"
  },
  "language_info": {
   "codemirror_mode": {
    "name": "ipython",
    "version": 3
   },
   "file_extension": ".py",
   "mimetype": "text/x-python",
   "name": "python",
   "nbconvert_exporter": "python",
   "pygments_lexer": "ipython3",
   "version": "3.8.0"
  }
 },
 "nbformat": 4,
 "nbformat_minor": 2
}

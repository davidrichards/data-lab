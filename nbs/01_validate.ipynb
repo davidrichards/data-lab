{
 "cells": [
  {
   "cell_type": "code",
   "execution_count": 1,
   "metadata": {},
   "outputs": [],
   "source": [
    "# default_exp simulate.distribution"
   ]
  },
  {
   "cell_type": "markdown",
   "metadata": {},
   "source": [
    "# Validate\n",
    "\n",
    "Expose distribution tests for exploratory analysis."
   ]
  },
  {
   "cell_type": "code",
   "execution_count": 2,
   "metadata": {},
   "outputs": [],
   "source": [
    "#hide\n",
    "from nbdev.showdoc import *"
   ]
  },
  {
   "cell_type": "code",
   "execution_count": 3,
   "metadata": {},
   "outputs": [
    {
     "name": "stdout",
     "output_type": "stream",
     "text": [
      "/Users/davidrichards/codes/hydra/lab\n"
     ]
    }
   ],
   "source": [
    "#hide\n",
    "pwd = %pwd\n",
    "if pwd.split('/')[-1] == 'nbs':\n",
    "    %cd .."
   ]
  },
  {
   "cell_type": "code",
   "execution_count": 5,
   "metadata": {},
   "outputs": [],
   "source": [
    "%matplotlib inline\n",
    "from lab.util.test_functions import *\n",
    "from scipy import stats\n",
    "import numpy as np\n",
    "import matplotlib.pyplot as plt"
   ]
  },
  {
   "cell_type": "markdown",
   "metadata": {},
   "source": [
    "## Validating a Distribution\n",
    "\n",
    "Sometimes I look at a variable, check for missing values, size, shape, and a few metrics. That's a good start to explore a variable. If I look a little deeper, I can check the distribution of the data, to see if it makes sense. It's a fun trick, and it can be useful. It comes at the danger of over-analyzing things.\n",
    "\n",
    "But it also supports another thing I like to do, to create a baseline model that adds no real insight but gives me a point of comparison. Thisis how I look at machine learning--what good is it adding to something simple or obvious? Maybe it's a good idea to check if the distribution makes sense, if I have my wits about me before spending too much time building new tools.\n",
    "\n",
    "It's a balancing act.\n",
    "\n",
    "Either way, we can validate a distribution:\n",
    "\n",
    "* plot: ...\n",
    "* box plot: ...\n",
    "* KS: ...\n",
    "* Shapiro Wilk: ...\n",
    "* The other: ...\n",
    "\n",
    "And there's more too..."
   ]
  },
  {
   "cell_type": "code",
   "execution_count": 9,
   "metadata": {},
   "outputs": [],
   "source": [
    "#export\n",
    "DEFAULT_VALIDATION_SIZE = 500\n",
    "\n",
    "def is_traditional_distribution(o):\n",
    "    \"\"\"A 'traditional' distribution has an `rvs`\n",
    "    method attached, a tool for extracting random\n",
    "    variables. Check if this is the case.\"\"\"\n",
    "    return hasattr(o, 'rvs')\n",
    "\n",
    "def extract_values(o, *a, **kw):\n",
    "    \"\"\"Create a simple interface for either\n",
    "    a distribution (e.g. `o.rvs(**kw)`) or a\n",
    "    function (`o(**kw)`, or just an array-like\n",
    "    object. (`np.array(o)`).\"\"\"\n",
    "    if is_traditional_distribution(o): return np.array(o.rvs(*a, **kw))\n",
    "    if callable(o): return np.array(o(*a, **kw))\n",
    "    return np.array(o)\n",
    "\n",
    "def extract_test_values(o, *a, **kw):\n",
    "    \"\"\"Offer test-sized values\"\"\"\n",
    "    kw = {**{'size': DEFAULT_VALIDATION_SIZE}, **kw}\n",
    "    return extract_values(o, *a, **kw)"
   ]
  },
  {
   "cell_type": "markdown",
   "metadata": {},
   "source": [
    "The `is_traditional_distribution` looks for whether this is something from `scipy.stats` (meaning, it has an `rvs` method)."
   ]
  },
  {
   "cell_type": "code",
   "execution_count": 10,
   "metadata": {},
   "outputs": [],
   "source": [
    "assert is_traditional_distribution(stats.skewnorm)"
   ]
  },
  {
   "cell_type": "markdown",
   "metadata": {},
   "source": [
    "## Extract Values\n",
    "\n",
    "I like having top-level functions that hide the details of underlying code. The `extract_values` function will see if it can create random values from an `rvs` method. If it can't do that, it will call a function. If not, it will ensure the object is a NumPy array.\n",
    "\n",
    "Also, there's a shortcut that suggests `DEFAULT_VALIDATION_SIZE` is a good sample size with `extract_test_values`."
   ]
  },
  {
   "cell_type": "code",
   "execution_count": 11,
   "metadata": {},
   "outputs": [],
   "source": [
    "values = extract_values(stats.skewnorm, 5, size=3, loc=2, scale=0.001)\n",
    "check_is_near(values, 2, atol=0.01)\n",
    "dist = lambda *a, **kw: np.zeros(3) + 2\n",
    "values = extract_values(dist)\n",
    "check_equals(values, 2)\n",
    "values = extract_values(np.zeros(3) + 1)\n",
    "expected = [1,1,1]\n",
    "check_equals(expected, values)\n",
    "\n",
    "assert len(extract_test_values(stats.t, df=3) == DEFAULT_VALIDATION_SIZE)\n",
    "assert len(extract_test_values(stats.t, df=3, size=3) == 3)"
   ]
  },
  {
   "cell_type": "code",
   "execution_count": 14,
   "metadata": {},
   "outputs": [],
   "source": [
    "def plot_qq(o, **kw):\n",
    "    pass"
   ]
  },
  {
   "cell_type": "markdown",
   "metadata": {},
   "source": [
    "Statistical validation can show me whether data fits a distrbution numerically."
   ]
  },
  {
   "cell_type": "code",
   "execution_count": 12,
   "metadata": {},
   "outputs": [],
   "source": [
    "def validate_with_shapiro_wilk(o, accept=0.05, **kw):\n",
    "    \"\"\"Validate with the Shapiro-Wilk test...\"\"\"\n",
    "    kw = {**dict(size=DEFAULT_VALIDATION_SIZE), **kw}\n",
    "    data = extract_values(o, **kw)\n",
    "    w, p = stats.shapiro(data)\n",
    "    if len(data) > 5000: return w <= 1 - accept\n",
    "    return p <= 1 - accept\n",
    "\n",
    "def validate_distribution(o, validator=validate_with_shapiro_wilk, **kw):\n",
    "    \"\"\"Validate a distribution generally, using Shapiro-Wilk as\n",
    "    a default validation.\"\"\"\n",
    "    return validator(o, **kw)"
   ]
  },
  {
   "cell_type": "code",
   "execution_count": 13,
   "metadata": {},
   "outputs": [],
   "source": [
    "assert validate_with_shapiro_wilk(stats.norm)\n",
    "with check_raises(message=\"Shapiro-Wilk should require at least 3 items to work.\"):\n",
    "    validate_with_shapiro_wilk(stats.norm, size=2)\n",
    "assert validate_distribution(stats.norm)"
   ]
  },
  {
   "cell_type": "markdown",
   "metadata": {},
   "source": [
    "* ~~extract_test_values~~\n",
    "* plot_qq\n",
    "* plot_distribution_vs_normal\n",
    "* fix shapiro\n"
   ]
  },
  {
   "cell_type": "code",
   "execution_count": null,
   "metadata": {},
   "outputs": [],
   "source": []
  }
 ],
 "metadata": {
  "kernelspec": {
   "display_name": "Python 3",
   "language": "python",
   "name": "python3"
  },
  "language_info": {
   "codemirror_mode": {
    "name": "ipython",
    "version": 3
   },
   "file_extension": ".py",
   "mimetype": "text/x-python",
   "name": "python",
   "nbconvert_exporter": "python",
   "pygments_lexer": "ipython3",
   "version": "3.8.0"
  }
 },
 "nbformat": 4,
 "nbformat_minor": 2
}
